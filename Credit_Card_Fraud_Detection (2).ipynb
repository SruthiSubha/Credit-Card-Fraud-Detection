{
  "nbformat": 4,
  "nbformat_minor": 0,
  "metadata": {
    "colab": {
      "name": "Credit Card Fraud Detection.ipynb",
      "provenance": [],
      "collapsed_sections": []
    },
    "kernelspec": {
      "name": "python3",
      "display_name": "Python 3"
    },
    "language_info": {
      "name": "python"
    }
  },
  "cells": [
    {
      "cell_type": "markdown",
      "metadata": {
        "id": "OfwqKfi3AHNn"
      },
      "source": [
        "### Name:Sruthi.S\n",
        "\n",
        "### RollNo:AM.EN.U4CSE19354\n",
        "\n",
        "# **Credit Card Fraud Detection**\n",
        "\n",
        "\n",
        "\n",
        "\n"
      ]
    },
    {
      "cell_type": "code",
      "metadata": {
        "id": "6jb__0gHSoSA",
        "colab": {
          "base_uri": "https://localhost:8080/"
        },
        "outputId": "61fb7fa0-0487-4a71-aa73-b9fd70eb144c"
      },
      "source": [
        "from google.colab import drive\n",
        "drive.mount('/content/drive')"
      ],
      "execution_count": null,
      "outputs": [
        {
          "output_type": "stream",
          "name": "stdout",
          "text": [
            "Drive already mounted at /content/drive; to attempt to forcibly remount, call drive.mount(\"/content/drive\", force_remount=True).\n"
          ]
        }
      ]
    },
    {
      "cell_type": "markdown",
      "metadata": {
        "id": "RidWfTKTAA_S"
      },
      "source": [
        "## **Importing Packages**"
      ]
    },
    {
      "cell_type": "code",
      "metadata": {
        "id": "8AaX9isnAnOe"
      },
      "source": [
        "import pandas as pd\n",
        "import numpy as np\n",
        "import matplotlib.pyplot as plt\n",
        "import seaborn as sns\n",
        "import warnings\n",
        "warnings.filterwarnings(\"ignore\")\n",
        "from sklearn.model_selection import train_test_split\n",
        "from sklearn.metrics import classification_report,confusion_matrix\n",
        "from sklearn import metrics\n",
        "from sklearn.preprocessing import LabelEncoder\n",
        "from imblearn.over_sampling import SMOTE\n",
        "from sklearn.utils import resample\n",
        "from sklearn.metrics import confusion_matrix\n",
        "from sklearn.svm import SVC\n",
        "from sklearn.neighbors import KNeighborsClassifier\n",
        "from sklearn.metrics import accuracy_score, f1_score, precision_score, recall_score, classification_report\n",
        "from sklearn.tree import DecisionTreeClassifier\n"
      ],
      "execution_count": null,
      "outputs": []
    },
    {
      "cell_type": "markdown",
      "metadata": {
        "id": "rJNwf5LZyE8O"
      },
      "source": [
        "## **Loading the Dataset**"
      ]
    },
    {
      "cell_type": "code",
      "metadata": {
        "colab": {
          "base_uri": "https://localhost:8080/",
          "height": 405
        },
        "id": "eNLp-m3VWpPS",
        "outputId": "7fbbf0a4-3a42-4f9b-953c-f23cd1f05411"
      },
      "source": [
        "data=pd.read_csv('/content/drive/MyDrive/Colab Notebooks/Credit Card Fraud/credit_dataset.csv')\n",
        "dataset = data.copy()\n",
        "dataset.head()"
      ],
      "execution_count": null,
      "outputs": [
        {
          "output_type": "execute_result",
          "data": {
            "text/html": [
              "<div>\n",
              "<style scoped>\n",
              "    .dataframe tbody tr th:only-of-type {\n",
              "        vertical-align: middle;\n",
              "    }\n",
              "\n",
              "    .dataframe tbody tr th {\n",
              "        vertical-align: top;\n",
              "    }\n",
              "\n",
              "    .dataframe thead th {\n",
              "        text-align: right;\n",
              "    }\n",
              "</style>\n",
              "<table border=\"1\" class=\"dataframe\">\n",
              "  <thead>\n",
              "    <tr style=\"text-align: right;\">\n",
              "      <th></th>\n",
              "      <th>Unnamed: 0</th>\n",
              "      <th>ID</th>\n",
              "      <th>GENDER</th>\n",
              "      <th>CAR</th>\n",
              "      <th>REALITY</th>\n",
              "      <th>NO_OF_CHILD</th>\n",
              "      <th>INCOME</th>\n",
              "      <th>INCOME_TYPE</th>\n",
              "      <th>EDUCATION_TYPE</th>\n",
              "      <th>FAMILY_TYPE</th>\n",
              "      <th>HOUSE_TYPE</th>\n",
              "      <th>FLAG_MOBIL</th>\n",
              "      <th>WORK_PHONE</th>\n",
              "      <th>PHONE</th>\n",
              "      <th>E_MAIL</th>\n",
              "      <th>FAMILY SIZE</th>\n",
              "      <th>BEGIN_MONTH</th>\n",
              "      <th>AGE</th>\n",
              "      <th>YEARS_EMPLOYED</th>\n",
              "      <th>TARGET</th>\n",
              "    </tr>\n",
              "  </thead>\n",
              "  <tbody>\n",
              "    <tr>\n",
              "      <th>0</th>\n",
              "      <td>0</td>\n",
              "      <td>5008806</td>\n",
              "      <td>M</td>\n",
              "      <td>Y</td>\n",
              "      <td>Y</td>\n",
              "      <td>0</td>\n",
              "      <td>112500.0</td>\n",
              "      <td>Working</td>\n",
              "      <td>Secondary / secondary special</td>\n",
              "      <td>Married</td>\n",
              "      <td>House / apartment</td>\n",
              "      <td>1</td>\n",
              "      <td>0</td>\n",
              "      <td>0</td>\n",
              "      <td>0</td>\n",
              "      <td>2.0</td>\n",
              "      <td>29</td>\n",
              "      <td>59</td>\n",
              "      <td>3</td>\n",
              "      <td>0</td>\n",
              "    </tr>\n",
              "    <tr>\n",
              "      <th>1</th>\n",
              "      <td>1</td>\n",
              "      <td>5008808</td>\n",
              "      <td>F</td>\n",
              "      <td>N</td>\n",
              "      <td>Y</td>\n",
              "      <td>0</td>\n",
              "      <td>270000.0</td>\n",
              "      <td>Commercial associate</td>\n",
              "      <td>Secondary / secondary special</td>\n",
              "      <td>Single / not married</td>\n",
              "      <td>House / apartment</td>\n",
              "      <td>1</td>\n",
              "      <td>0</td>\n",
              "      <td>1</td>\n",
              "      <td>1</td>\n",
              "      <td>1.0</td>\n",
              "      <td>4</td>\n",
              "      <td>52</td>\n",
              "      <td>8</td>\n",
              "      <td>0</td>\n",
              "    </tr>\n",
              "    <tr>\n",
              "      <th>2</th>\n",
              "      <td>2</td>\n",
              "      <td>5008809</td>\n",
              "      <td>F</td>\n",
              "      <td>N</td>\n",
              "      <td>Y</td>\n",
              "      <td>0</td>\n",
              "      <td>270000.0</td>\n",
              "      <td>Commercial associate</td>\n",
              "      <td>Secondary / secondary special</td>\n",
              "      <td>Single / not married</td>\n",
              "      <td>House / apartment</td>\n",
              "      <td>1</td>\n",
              "      <td>0</td>\n",
              "      <td>1</td>\n",
              "      <td>1</td>\n",
              "      <td>1.0</td>\n",
              "      <td>26</td>\n",
              "      <td>52</td>\n",
              "      <td>8</td>\n",
              "      <td>0</td>\n",
              "    </tr>\n",
              "    <tr>\n",
              "      <th>3</th>\n",
              "      <td>3</td>\n",
              "      <td>5008810</td>\n",
              "      <td>F</td>\n",
              "      <td>N</td>\n",
              "      <td>Y</td>\n",
              "      <td>0</td>\n",
              "      <td>270000.0</td>\n",
              "      <td>Commercial associate</td>\n",
              "      <td>Secondary / secondary special</td>\n",
              "      <td>Single / not married</td>\n",
              "      <td>House / apartment</td>\n",
              "      <td>1</td>\n",
              "      <td>0</td>\n",
              "      <td>1</td>\n",
              "      <td>1</td>\n",
              "      <td>1.0</td>\n",
              "      <td>26</td>\n",
              "      <td>52</td>\n",
              "      <td>8</td>\n",
              "      <td>0</td>\n",
              "    </tr>\n",
              "    <tr>\n",
              "      <th>4</th>\n",
              "      <td>4</td>\n",
              "      <td>5008811</td>\n",
              "      <td>F</td>\n",
              "      <td>N</td>\n",
              "      <td>Y</td>\n",
              "      <td>0</td>\n",
              "      <td>270000.0</td>\n",
              "      <td>Commercial associate</td>\n",
              "      <td>Secondary / secondary special</td>\n",
              "      <td>Single / not married</td>\n",
              "      <td>House / apartment</td>\n",
              "      <td>1</td>\n",
              "      <td>0</td>\n",
              "      <td>1</td>\n",
              "      <td>1</td>\n",
              "      <td>1.0</td>\n",
              "      <td>38</td>\n",
              "      <td>52</td>\n",
              "      <td>8</td>\n",
              "      <td>0</td>\n",
              "    </tr>\n",
              "  </tbody>\n",
              "</table>\n",
              "</div>"
            ],
            "text/plain": [
              "   Unnamed: 0       ID GENDER CAR  ... BEGIN_MONTH  AGE  YEARS_EMPLOYED TARGET\n",
              "0           0  5008806      M   Y  ...          29   59               3      0\n",
              "1           1  5008808      F   N  ...           4   52               8      0\n",
              "2           2  5008809      F   N  ...          26   52               8      0\n",
              "3           3  5008810      F   N  ...          26   52               8      0\n",
              "4           4  5008811      F   N  ...          38   52               8      0\n",
              "\n",
              "[5 rows x 20 columns]"
            ]
          },
          "metadata": {},
          "execution_count": 24
        }
      ]
    },
    {
      "cell_type": "markdown",
      "metadata": {
        "id": "6u7fDzjAyOno"
      },
      "source": [
        "## **Summarization**"
      ]
    },
    {
      "cell_type": "code",
      "metadata": {
        "colab": {
          "base_uri": "https://localhost:8080/"
        },
        "id": "oagJxNAIdSIt",
        "outputId": "7f056585-78c7-41d5-b21b-3fcfcd11ad40"
      },
      "source": [
        "dataset.info()\n"
      ],
      "execution_count": null,
      "outputs": [
        {
          "output_type": "stream",
          "name": "stdout",
          "text": [
            "<class 'pandas.core.frame.DataFrame'>\n",
            "RangeIndex: 25134 entries, 0 to 25133\n",
            "Data columns (total 20 columns):\n",
            " #   Column          Non-Null Count  Dtype  \n",
            "---  ------          --------------  -----  \n",
            " 0   Unnamed: 0      25134 non-null  int64  \n",
            " 1   ID              25134 non-null  int64  \n",
            " 2   GENDER          25134 non-null  object \n",
            " 3   CAR             25134 non-null  object \n",
            " 4   REALITY         25134 non-null  object \n",
            " 5   NO_OF_CHILD     25134 non-null  int64  \n",
            " 6   INCOME          25134 non-null  float64\n",
            " 7   INCOME_TYPE     25134 non-null  object \n",
            " 8   EDUCATION_TYPE  25134 non-null  object \n",
            " 9   FAMILY_TYPE     25134 non-null  object \n",
            " 10  HOUSE_TYPE      25134 non-null  object \n",
            " 11  FLAG_MOBIL      25134 non-null  int64  \n",
            " 12  WORK_PHONE      25134 non-null  int64  \n",
            " 13  PHONE           25134 non-null  int64  \n",
            " 14  E_MAIL          25134 non-null  int64  \n",
            " 15  FAMILY SIZE     25134 non-null  float64\n",
            " 16  BEGIN_MONTH     25134 non-null  int64  \n",
            " 17  AGE             25134 non-null  int64  \n",
            " 18  YEARS_EMPLOYED  25134 non-null  int64  \n",
            " 19  TARGET          25134 non-null  int64  \n",
            "dtypes: float64(2), int64(11), object(7)\n",
            "memory usage: 3.8+ MB\n"
          ]
        }
      ]
    },
    {
      "cell_type": "code",
      "metadata": {
        "colab": {
          "base_uri": "https://localhost:8080/"
        },
        "id": "zIfzY3x55VhX",
        "outputId": "c89d0953-e26d-4779-87dc-be6b9f976ced"
      },
      "source": [
        "print(\"Rows    :\",dataset.shape[0])\n",
        "print(\"Columns :\",dataset.shape[1])"
      ],
      "execution_count": null,
      "outputs": [
        {
          "output_type": "stream",
          "name": "stdout",
          "text": [
            "Rows    : 25134\n",
            "Columns : 20\n"
          ]
        }
      ]
    },
    {
      "cell_type": "code",
      "metadata": {
        "colab": {
          "base_uri": "https://localhost:8080/"
        },
        "id": "yql3yJSkukEA",
        "outputId": "e0777e94-ddbd-487b-d12a-016475dea5f7"
      },
      "source": [
        "print(dataset.shape)\n",
        "print(dataset.columns)"
      ],
      "execution_count": null,
      "outputs": [
        {
          "output_type": "stream",
          "name": "stdout",
          "text": [
            "(25134, 20)\n",
            "Index(['Unnamed: 0', 'ID', 'GENDER', 'CAR', 'REALITY', 'NO_OF_CHILD', 'INCOME',\n",
            "       'INCOME_TYPE', 'EDUCATION_TYPE', 'FAMILY_TYPE', 'HOUSE_TYPE',\n",
            "       'FLAG_MOBIL', 'WORK_PHONE', 'PHONE', 'E_MAIL', 'FAMILY SIZE',\n",
            "       'BEGIN_MONTH', 'AGE', 'YEARS_EMPLOYED', 'TARGET'],\n",
            "      dtype='object')\n"
          ]
        }
      ]
    },
    {
      "cell_type": "code",
      "metadata": {
        "colab": {
          "base_uri": "https://localhost:8080/"
        },
        "id": "Byx9Wan47UjS",
        "outputId": "ad4af3db-5207-49ef-c542-b13fa453d3bd"
      },
      "source": [
        "dataset.dtypes"
      ],
      "execution_count": null,
      "outputs": [
        {
          "output_type": "execute_result",
          "data": {
            "text/plain": [
              "Unnamed: 0          int64\n",
              "ID                  int64\n",
              "GENDER             object\n",
              "CAR                object\n",
              "REALITY            object\n",
              "NO_OF_CHILD         int64\n",
              "INCOME            float64\n",
              "INCOME_TYPE        object\n",
              "EDUCATION_TYPE     object\n",
              "FAMILY_TYPE        object\n",
              "HOUSE_TYPE         object\n",
              "FLAG_MOBIL          int64\n",
              "WORK_PHONE          int64\n",
              "PHONE               int64\n",
              "E_MAIL              int64\n",
              "FAMILY SIZE       float64\n",
              "BEGIN_MONTH         int64\n",
              "AGE                 int64\n",
              "YEARS_EMPLOYED      int64\n",
              "TARGET              int64\n",
              "dtype: object"
            ]
          },
          "metadata": {},
          "execution_count": 7
        }
      ]
    },
    {
      "cell_type": "code",
      "metadata": {
        "id": "eXuEHkKjhxe5",
        "colab": {
          "base_uri": "https://localhost:8080/"
        },
        "outputId": "335e51ad-5033-464d-d767-0b3902f17f38"
      },
      "source": [
        "#checking for NULL VALUES in dataset\n",
        "dataset.isna().sum()"
      ],
      "execution_count": null,
      "outputs": [
        {
          "output_type": "execute_result",
          "data": {
            "text/plain": [
              "Unnamed: 0        0\n",
              "ID                0\n",
              "GENDER            0\n",
              "CAR               0\n",
              "REALITY           0\n",
              "NO_OF_CHILD       0\n",
              "INCOME            0\n",
              "INCOME_TYPE       0\n",
              "EDUCATION_TYPE    0\n",
              "FAMILY_TYPE       0\n",
              "HOUSE_TYPE        0\n",
              "FLAG_MOBIL        0\n",
              "WORK_PHONE        0\n",
              "PHONE             0\n",
              "E_MAIL            0\n",
              "FAMILY SIZE       0\n",
              "BEGIN_MONTH       0\n",
              "AGE               0\n",
              "YEARS_EMPLOYED    0\n",
              "TARGET            0\n",
              "dtype: int64"
            ]
          },
          "metadata": {},
          "execution_count": 8
        }
      ]
    },
    {
      "cell_type": "code",
      "metadata": {
        "colab": {
          "base_uri": "https://localhost:8080/"
        },
        "id": "0uqZc8YTgyuD",
        "outputId": "fe8ed1cf-bf09-4810-eb92-5a39926f1597"
      },
      "source": [
        "#checking for unique values in dataset\n",
        "dataset.nunique()"
      ],
      "execution_count": null,
      "outputs": [
        {
          "output_type": "execute_result",
          "data": {
            "text/plain": [
              "Unnamed: 0        25134\n",
              "ID                25134\n",
              "GENDER                2\n",
              "CAR                   2\n",
              "REALITY               2\n",
              "NO_OF_CHILD           9\n",
              "INCOME              195\n",
              "INCOME_TYPE           5\n",
              "EDUCATION_TYPE        5\n",
              "FAMILY_TYPE           5\n",
              "HOUSE_TYPE            6\n",
              "FLAG_MOBIL            1\n",
              "WORK_PHONE            2\n",
              "PHONE                 2\n",
              "E_MAIL                2\n",
              "FAMILY SIZE          10\n",
              "BEGIN_MONTH          61\n",
              "AGE                  47\n",
              "YEARS_EMPLOYED       43\n",
              "TARGET                2\n",
              "dtype: int64"
            ]
          },
          "metadata": {},
          "execution_count": 9
        }
      ]
    },
    {
      "cell_type": "code",
      "metadata": {
        "colab": {
          "base_uri": "https://localhost:8080/",
          "height": 411
        },
        "id": "MGlO1ThAR0O6",
        "outputId": "5cb0f989-82b9-47e4-915c-393541ba8df6"
      },
      "source": [
        "dataset.head()"
      ],
      "execution_count": null,
      "outputs": [
        {
          "output_type": "execute_result",
          "data": {
            "text/html": [
              "<div>\n",
              "<style scoped>\n",
              "    .dataframe tbody tr th:only-of-type {\n",
              "        vertical-align: middle;\n",
              "    }\n",
              "\n",
              "    .dataframe tbody tr th {\n",
              "        vertical-align: top;\n",
              "    }\n",
              "\n",
              "    .dataframe thead th {\n",
              "        text-align: right;\n",
              "    }\n",
              "</style>\n",
              "<table border=\"1\" class=\"dataframe\">\n",
              "  <thead>\n",
              "    <tr style=\"text-align: right;\">\n",
              "      <th></th>\n",
              "      <th>ID</th>\n",
              "      <th>GENDER</th>\n",
              "      <th>CAR</th>\n",
              "      <th>REALITY</th>\n",
              "      <th>NO_OF_CHILD</th>\n",
              "      <th>INCOME</th>\n",
              "      <th>INCOME_TYPE</th>\n",
              "      <th>EDUCATION_TYPE</th>\n",
              "      <th>FAMILY_TYPE</th>\n",
              "      <th>HOUSE_TYPE</th>\n",
              "      <th>WORK_PHONE</th>\n",
              "      <th>PHONE</th>\n",
              "      <th>E_MAIL</th>\n",
              "      <th>FAMILY SIZE</th>\n",
              "      <th>BEGIN_MONTH</th>\n",
              "      <th>AGE</th>\n",
              "      <th>YEARS_EMPLOYED</th>\n",
              "      <th>TARGET</th>\n",
              "    </tr>\n",
              "  </thead>\n",
              "  <tbody>\n",
              "    <tr>\n",
              "      <th>0</th>\n",
              "      <td>5008806</td>\n",
              "      <td>M</td>\n",
              "      <td>Y</td>\n",
              "      <td>Y</td>\n",
              "      <td>0</td>\n",
              "      <td>112500.0</td>\n",
              "      <td>Working</td>\n",
              "      <td>Secondary / secondary special</td>\n",
              "      <td>Married</td>\n",
              "      <td>House / apartment</td>\n",
              "      <td>0</td>\n",
              "      <td>0</td>\n",
              "      <td>0</td>\n",
              "      <td>2.0</td>\n",
              "      <td>29</td>\n",
              "      <td>59</td>\n",
              "      <td>3</td>\n",
              "      <td>0</td>\n",
              "    </tr>\n",
              "    <tr>\n",
              "      <th>1</th>\n",
              "      <td>5008808</td>\n",
              "      <td>F</td>\n",
              "      <td>N</td>\n",
              "      <td>Y</td>\n",
              "      <td>0</td>\n",
              "      <td>270000.0</td>\n",
              "      <td>Commercial associate</td>\n",
              "      <td>Secondary / secondary special</td>\n",
              "      <td>Single / not married</td>\n",
              "      <td>House / apartment</td>\n",
              "      <td>0</td>\n",
              "      <td>1</td>\n",
              "      <td>1</td>\n",
              "      <td>1.0</td>\n",
              "      <td>4</td>\n",
              "      <td>52</td>\n",
              "      <td>8</td>\n",
              "      <td>0</td>\n",
              "    </tr>\n",
              "    <tr>\n",
              "      <th>2</th>\n",
              "      <td>5008809</td>\n",
              "      <td>F</td>\n",
              "      <td>N</td>\n",
              "      <td>Y</td>\n",
              "      <td>0</td>\n",
              "      <td>270000.0</td>\n",
              "      <td>Commercial associate</td>\n",
              "      <td>Secondary / secondary special</td>\n",
              "      <td>Single / not married</td>\n",
              "      <td>House / apartment</td>\n",
              "      <td>0</td>\n",
              "      <td>1</td>\n",
              "      <td>1</td>\n",
              "      <td>1.0</td>\n",
              "      <td>26</td>\n",
              "      <td>52</td>\n",
              "      <td>8</td>\n",
              "      <td>0</td>\n",
              "    </tr>\n",
              "    <tr>\n",
              "      <th>3</th>\n",
              "      <td>5008810</td>\n",
              "      <td>F</td>\n",
              "      <td>N</td>\n",
              "      <td>Y</td>\n",
              "      <td>0</td>\n",
              "      <td>270000.0</td>\n",
              "      <td>Commercial associate</td>\n",
              "      <td>Secondary / secondary special</td>\n",
              "      <td>Single / not married</td>\n",
              "      <td>House / apartment</td>\n",
              "      <td>0</td>\n",
              "      <td>1</td>\n",
              "      <td>1</td>\n",
              "      <td>1.0</td>\n",
              "      <td>26</td>\n",
              "      <td>52</td>\n",
              "      <td>8</td>\n",
              "      <td>0</td>\n",
              "    </tr>\n",
              "    <tr>\n",
              "      <th>4</th>\n",
              "      <td>5008811</td>\n",
              "      <td>F</td>\n",
              "      <td>N</td>\n",
              "      <td>Y</td>\n",
              "      <td>0</td>\n",
              "      <td>270000.0</td>\n",
              "      <td>Commercial associate</td>\n",
              "      <td>Secondary / secondary special</td>\n",
              "      <td>Single / not married</td>\n",
              "      <td>House / apartment</td>\n",
              "      <td>0</td>\n",
              "      <td>1</td>\n",
              "      <td>1</td>\n",
              "      <td>1.0</td>\n",
              "      <td>38</td>\n",
              "      <td>52</td>\n",
              "      <td>8</td>\n",
              "      <td>0</td>\n",
              "    </tr>\n",
              "  </tbody>\n",
              "</table>\n",
              "</div>"
            ],
            "text/plain": [
              "        ID GENDER CAR REALITY  ...  BEGIN_MONTH  AGE YEARS_EMPLOYED TARGET\n",
              "0  5008806      M   Y       Y  ...           29   59              3      0\n",
              "1  5008808      F   N       Y  ...            4   52              8      0\n",
              "2  5008809      F   N       Y  ...           26   52              8      0\n",
              "3  5008810      F   N       Y  ...           26   52              8      0\n",
              "4  5008811      F   N       Y  ...           38   52              8      0\n",
              "\n",
              "[5 rows x 18 columns]"
            ]
          },
          "metadata": {},
          "execution_count": 5
        }
      ]
    },
    {
      "cell_type": "code",
      "metadata": {
        "colab": {
          "base_uri": "https://localhost:8080/",
          "height": 415
        },
        "id": "hBc9c0KWk0Mv",
        "outputId": "501fa9cd-670b-4d5c-e8c3-ccc3223ddd77"
      },
      "source": [
        "# TARGET column\n",
        "sns.countplot(dataset.TARGET).set_title(\"Class Distribution \\n (0:Not Fraud || 1:Fraud)\")\n",
        "print(dataset.TARGET.value_counts(normalize=True))\n",
        "plt.show()"
      ],
      "execution_count": null,
      "outputs": [
        {
          "output_type": "stream",
          "name": "stdout",
          "text": [
            "0    0.98321\n",
            "1    0.01679\n",
            "Name: TARGET, dtype: float64\n"
          ]
        },
        {
          "output_type": "stream",
          "name": "stderr",
          "text": [
            "/usr/local/lib/python3.7/dist-packages/seaborn/_decorators.py:43: FutureWarning: Pass the following variable as a keyword arg: x. From version 0.12, the only valid positional argument will be `data`, and passing other arguments without an explicit keyword will result in an error or misinterpretation.\n",
            "  FutureWarning\n"
          ]
        },
        {
          "output_type": "display_data",
          "data": {
            "image/png": "[encoded data removed]",
            "text/plain": [
              "<Figure size 432x288 with 1 Axes>"
            ]
          },
          "metadata": {
            "needs_background": "light"
          }
        }
      ]
    },
    {
      "cell_type": "code",
      "metadata": {
        "id": "cSAblC40lMR6",
        "colab": {
          "base_uri": "https://localhost:8080/"
        },
        "outputId": "9e32b21a-4b6b-4cda-c705-96524bd4db9e"
      },
      "source": [
        "print('Not Frauds :', round(dataset['TARGET'].value_counts()[0]/len(dataset) * 100,2), '% of the dataset')\n",
        "print('Frauds :', round(dataset['TARGET'].value_counts()[1]/len(dataset) * 100,2), '% of the dataset')"
      ],
      "execution_count": null,
      "outputs": [
        {
          "output_type": "stream",
          "name": "stdout",
          "text": [
            "Not Frauds : 98.32 % of the dataset\n",
            "Frauds : 1.68 % of the dataset\n"
          ]
        }
      ]
    },
    {
      "cell_type": "code",
      "metadata": {
        "colab": {
          "base_uri": "https://localhost:8080/",
          "height": 297
        },
        "id": "kzKiA6SOlV8h",
        "outputId": "6fe6b5c9-baaf-42d3-ad65-105f6a2d3640"
      },
      "source": [
        "dataset.describe()"
      ],
      "execution_count": null,
      "outputs": [
        {
          "output_type": "execute_result",
          "data": {
            "text/html": [
              "<div>\n",
              "<style scoped>\n",
              "    .dataframe tbody tr th:only-of-type {\n",
              "        vertical-align: middle;\n",
              "    }\n",
              "\n",
              "    .dataframe tbody tr th {\n",
              "        vertical-align: top;\n",
              "    }\n",
              "\n",
              "    .dataframe thead th {\n",
              "        text-align: right;\n",
              "    }\n",
              "</style>\n",
              "<table border=\"1\" class=\"dataframe\">\n",
              "  <thead>\n",
              "    <tr style=\"text-align: right;\">\n",
              "      <th></th>\n",
              "      <th>ID</th>\n",
              "      <th>NO_OF_CHILD</th>\n",
              "      <th>INCOME</th>\n",
              "      <th>WORK_PHONE</th>\n",
              "      <th>PHONE</th>\n",
              "      <th>E_MAIL</th>\n",
              "      <th>FAMILY SIZE</th>\n",
              "      <th>BEGIN_MONTH</th>\n",
              "      <th>AGE</th>\n",
              "      <th>YEARS_EMPLOYED</th>\n",
              "      <th>TARGET</th>\n",
              "    </tr>\n",
              "  </thead>\n",
              "  <tbody>\n",
              "    <tr>\n",
              "      <th>count</th>\n",
              "      <td>2.513400e+04</td>\n",
              "      <td>25134.000000</td>\n",
              "      <td>2.513400e+04</td>\n",
              "      <td>25134.000000</td>\n",
              "      <td>25134.000000</td>\n",
              "      <td>25134.000000</td>\n",
              "      <td>25134.000000</td>\n",
              "      <td>25134.000000</td>\n",
              "      <td>25134.000000</td>\n",
              "      <td>25134.000000</td>\n",
              "      <td>25134.000000</td>\n",
              "    </tr>\n",
              "    <tr>\n",
              "      <th>mean</th>\n",
              "      <td>5.078838e+06</td>\n",
              "      <td>0.512334</td>\n",
              "      <td>1.948339e+05</td>\n",
              "      <td>0.273812</td>\n",
              "      <td>0.292791</td>\n",
              "      <td>0.100660</td>\n",
              "      <td>2.294064</td>\n",
              "      <td>26.120594</td>\n",
              "      <td>40.536166</td>\n",
              "      <td>7.204106</td>\n",
              "      <td>0.016790</td>\n",
              "    </tr>\n",
              "    <tr>\n",
              "      <th>std</th>\n",
              "      <td>4.194102e+04</td>\n",
              "      <td>0.787785</td>\n",
              "      <td>1.045110e+05</td>\n",
              "      <td>0.445923</td>\n",
              "      <td>0.455052</td>\n",
              "      <td>0.300885</td>\n",
              "      <td>0.947590</td>\n",
              "      <td>16.439658</td>\n",
              "      <td>9.559474</td>\n",
              "      <td>6.414231</td>\n",
              "      <td>0.128486</td>\n",
              "    </tr>\n",
              "    <tr>\n",
              "      <th>min</th>\n",
              "      <td>5.008806e+06</td>\n",
              "      <td>0.000000</td>\n",
              "      <td>2.700000e+04</td>\n",
              "      <td>0.000000</td>\n",
              "      <td>0.000000</td>\n",
              "      <td>0.000000</td>\n",
              "      <td>1.000000</td>\n",
              "      <td>0.000000</td>\n",
              "      <td>21.000000</td>\n",
              "      <td>0.000000</td>\n",
              "      <td>0.000000</td>\n",
              "    </tr>\n",
              "    <tr>\n",
              "      <th>25%</th>\n",
              "      <td>5.042228e+06</td>\n",
              "      <td>0.000000</td>\n",
              "      <td>1.350000e+05</td>\n",
              "      <td>0.000000</td>\n",
              "      <td>0.000000</td>\n",
              "      <td>0.000000</td>\n",
              "      <td>2.000000</td>\n",
              "      <td>12.000000</td>\n",
              "      <td>33.000000</td>\n",
              "      <td>3.000000</td>\n",
              "      <td>0.000000</td>\n",
              "    </tr>\n",
              "    <tr>\n",
              "      <th>50%</th>\n",
              "      <td>5.079004e+06</td>\n",
              "      <td>0.000000</td>\n",
              "      <td>1.800000e+05</td>\n",
              "      <td>0.000000</td>\n",
              "      <td>0.000000</td>\n",
              "      <td>0.000000</td>\n",
              "      <td>2.000000</td>\n",
              "      <td>24.000000</td>\n",
              "      <td>40.000000</td>\n",
              "      <td>5.000000</td>\n",
              "      <td>0.000000</td>\n",
              "    </tr>\n",
              "    <tr>\n",
              "      <th>75%</th>\n",
              "      <td>5.115604e+06</td>\n",
              "      <td>1.000000</td>\n",
              "      <td>2.250000e+05</td>\n",
              "      <td>1.000000</td>\n",
              "      <td>1.000000</td>\n",
              "      <td>0.000000</td>\n",
              "      <td>3.000000</td>\n",
              "      <td>39.000000</td>\n",
              "      <td>48.000000</td>\n",
              "      <td>10.000000</td>\n",
              "      <td>0.000000</td>\n",
              "    </tr>\n",
              "    <tr>\n",
              "      <th>max</th>\n",
              "      <td>5.150487e+06</td>\n",
              "      <td>19.000000</td>\n",
              "      <td>1.575000e+06</td>\n",
              "      <td>1.000000</td>\n",
              "      <td>1.000000</td>\n",
              "      <td>1.000000</td>\n",
              "      <td>20.000000</td>\n",
              "      <td>60.000000</td>\n",
              "      <td>67.000000</td>\n",
              "      <td>43.000000</td>\n",
              "      <td>1.000000</td>\n",
              "    </tr>\n",
              "  </tbody>\n",
              "</table>\n",
              "</div>"
            ],
            "text/plain": [
              "                 ID   NO_OF_CHILD  ...  YEARS_EMPLOYED        TARGET\n",
              "count  2.513400e+04  25134.000000  ...    25134.000000  25134.000000\n",
              "mean   5.078838e+06      0.512334  ...        7.204106      0.016790\n",
              "std    4.194102e+04      0.787785  ...        6.414231      0.128486\n",
              "min    5.008806e+06      0.000000  ...        0.000000      0.000000\n",
              "25%    5.042228e+06      0.000000  ...        3.000000      0.000000\n",
              "50%    5.079004e+06      0.000000  ...        5.000000      0.000000\n",
              "75%    5.115604e+06      1.000000  ...       10.000000      0.000000\n",
              "max    5.150487e+06     19.000000  ...       43.000000      1.000000\n",
              "\n",
              "[8 rows x 11 columns]"
            ]
          },
          "metadata": {},
          "execution_count": 14
        }
      ]
    },
    {
      "cell_type": "code",
      "metadata": {
        "colab": {
          "base_uri": "https://localhost:8080/",
          "height": 173
        },
        "id": "IOxF83KbuBnx",
        "outputId": "23ce2a9d-fb9f-41e9-f397-0de442c3370c"
      },
      "source": [
        "dataset.describe(include=\"O\")"
      ],
      "execution_count": null,
      "outputs": [
        {
          "output_type": "execute_result",
          "data": {
            "text/html": [
              "<div>\n",
              "<style scoped>\n",
              "    .dataframe tbody tr th:only-of-type {\n",
              "        vertical-align: middle;\n",
              "    }\n",
              "\n",
              "    .dataframe tbody tr th {\n",
              "        vertical-align: top;\n",
              "    }\n",
              "\n",
              "    .dataframe thead th {\n",
              "        text-align: right;\n",
              "    }\n",
              "</style>\n",
              "<table border=\"1\" class=\"dataframe\">\n",
              "  <thead>\n",
              "    <tr style=\"text-align: right;\">\n",
              "      <th></th>\n",
              "      <th>GENDER</th>\n",
              "      <th>CAR</th>\n",
              "      <th>REALITY</th>\n",
              "      <th>INCOME_TYPE</th>\n",
              "      <th>EDUCATION_TYPE</th>\n",
              "      <th>FAMILY_TYPE</th>\n",
              "      <th>HOUSE_TYPE</th>\n",
              "    </tr>\n",
              "  </thead>\n",
              "  <tbody>\n",
              "    <tr>\n",
              "      <th>count</th>\n",
              "      <td>25134</td>\n",
              "      <td>25134</td>\n",
              "      <td>25134</td>\n",
              "      <td>25134</td>\n",
              "      <td>25134</td>\n",
              "      <td>25134</td>\n",
              "      <td>25134</td>\n",
              "    </tr>\n",
              "    <tr>\n",
              "      <th>unique</th>\n",
              "      <td>2</td>\n",
              "      <td>2</td>\n",
              "      <td>2</td>\n",
              "      <td>5</td>\n",
              "      <td>5</td>\n",
              "      <td>5</td>\n",
              "      <td>6</td>\n",
              "    </tr>\n",
              "    <tr>\n",
              "      <th>top</th>\n",
              "      <td>F</td>\n",
              "      <td>N</td>\n",
              "      <td>Y</td>\n",
              "      <td>Working</td>\n",
              "      <td>Secondary / secondary special</td>\n",
              "      <td>Married</td>\n",
              "      <td>House / apartment</td>\n",
              "    </tr>\n",
              "    <tr>\n",
              "      <th>freq</th>\n",
              "      <td>15630</td>\n",
              "      <td>14618</td>\n",
              "      <td>16461</td>\n",
              "      <td>15622</td>\n",
              "      <td>16808</td>\n",
              "      <td>17509</td>\n",
              "      <td>22102</td>\n",
              "    </tr>\n",
              "  </tbody>\n",
              "</table>\n",
              "</div>"
            ],
            "text/plain": [
              "       GENDER    CAR  ... FAMILY_TYPE         HOUSE_TYPE\n",
              "count   25134  25134  ...       25134              25134\n",
              "unique      2      2  ...           5                  6\n",
              "top         F      N  ...     Married  House / apartment\n",
              "freq    15630  14618  ...       17509              22102\n",
              "\n",
              "[4 rows x 7 columns]"
            ]
          },
          "metadata": {},
          "execution_count": 16
        }
      ]
    },
    {
      "cell_type": "code",
      "metadata": {
        "colab": {
          "base_uri": "https://localhost:8080/"
        },
        "id": "c3oQcN1-uJr3",
        "outputId": "ad4508a6-f668-4dbb-ad9c-f2f94b9ab1ed"
      },
      "source": [
        "#all the categorical columns with their values -\n",
        "cols=dataset.describe(include=\"O\").columns\n",
        "for i in cols:\n",
        "    print(\"Distinct_values :\\n 'column_name' =\",i)\n",
        "    print(dataset[i].unique())\n",
        "    print(\"\")"
      ],
      "execution_count": null,
      "outputs": [
        {
          "output_type": "stream",
          "name": "stdout",
          "text": [
            "Distinct_values :\n",
            " 'column_name' = GENDER\n",
            "['M' 'F']\n",
            "\n",
            "Distinct_values :\n",
            " 'column_name' = CAR\n",
            "['Y' 'N']\n",
            "\n",
            "Distinct_values :\n",
            " 'column_name' = REALITY\n",
            "['Y' 'N']\n",
            "\n",
            "Distinct_values :\n",
            " 'column_name' = INCOME_TYPE\n",
            "['Working' 'Commercial associate' 'State servant' 'Student' 'Pensioner']\n",
            "\n",
            "Distinct_values :\n",
            " 'column_name' = EDUCATION_TYPE\n",
            "['Secondary / secondary special' 'Higher education' 'Incomplete higher'\n",
            " 'Lower secondary' 'Academic degree']\n",
            "\n",
            "Distinct_values :\n",
            " 'column_name' = FAMILY_TYPE\n",
            "['Married' 'Single / not married' 'Civil marriage' 'Separated' 'Widow']\n",
            "\n",
            "Distinct_values :\n",
            " 'column_name' = HOUSE_TYPE\n",
            "['House / apartment' 'Rented apartment' 'Municipal apartment'\n",
            " 'With parents' 'Co-op apartment' 'Office apartment']\n",
            "\n"
          ]
        }
      ]
    },
    {
      "cell_type": "markdown",
      "metadata": {
        "id": "ueKtCM7GylW0"
      },
      "source": [
        "## **Visualization**"
      ]
    },
    {
      "cell_type": "code",
      "metadata": {
        "colab": {
          "base_uri": "https://localhost:8080/",
          "height": 716
        },
        "id": "x7uZ2BLhlry3",
        "outputId": "32387e2b-aaa4-4893-dc41-784150dd7dbe"
      },
      "source": [
        "#Distribution of continuous \n",
        "dataset.hist(figsize=(20,12))\n",
        "plt.show()"
      ],
      "execution_count": null,
      "outputs": [
        {
          "output_type": "display_data",
          "data": {
            "image/png": "[encoded data removed]",
            "text/plain": [
              "<Figure size 1440x864 with 12 Axes>"
            ]
          },
          "metadata": {
            "needs_background": "light"
          }
        }
      ]
    },
    {
      "cell_type": "code",
      "metadata": {
        "colab": {
          "base_uri": "https://localhost:8080/",
          "height": 335
        },
        "id": "6R1ivg5Zv33l",
        "outputId": "3c5b5a7a-b44c-40b7-c0a7-d0361141fe17"
      },
      "source": [
        "plt.figure(figsize=(13,4))\n",
        "sns.countplot(dataset[\"GENDER\"],hue=\"TARGET\",data=dataset,palette=\"RdPu_r\")\n",
        "plt.show()"
      ],
      "execution_count": null,
      "outputs": [
        {
          "output_type": "stream",
          "name": "stderr",
          "text": [
            "/usr/local/lib/python3.7/dist-packages/seaborn/_decorators.py:43: FutureWarning: Pass the following variable as a keyword arg: x. From version 0.12, the only valid positional argument will be `data`, and passing other arguments without an explicit keyword will result in an error or misinterpretation.\n",
            "  FutureWarning\n"
          ]
        },
        {
          "output_type": "display_data",
          "data": {
            "image/png": "[encoded data removed]",
            "text/plain": [
              "<Figure size 936x288 with 1 Axes>"
            ]
          },
          "metadata": {
            "needs_background": "light"
          }
        }
      ]
    },
    {
      "cell_type": "code",
      "metadata": {
        "colab": {
          "base_uri": "https://localhost:8080/",
          "height": 337
        },
        "id": "YZ-QtzJqw7yY",
        "outputId": "9a2c1896-858d-4a56-fd03-031e5ca72fa1"
      },
      "source": [
        "plt.figure(figsize=(13,4))\n",
        "sns.countplot(dataset[\"INCOME_TYPE\"],hue=\"TARGET\",data=dataset,palette=\"RdPu_r\")\n",
        "plt.show()"
      ],
      "execution_count": null,
      "outputs": [
        {
          "output_type": "stream",
          "name": "stderr",
          "text": [
            "/usr/local/lib/python3.7/dist-packages/seaborn/_decorators.py:43: FutureWarning: Pass the following variable as a keyword arg: x. From version 0.12, the only valid positional argument will be `data`, and passing other arguments without an explicit keyword will result in an error or misinterpretation.\n",
            "  FutureWarning\n"
          ]
        },
        {
          "output_type": "display_data",
          "data": {
            "image/png": "[encoded data removed]",
            "text/plain": [
              "<Figure size 936x288 with 1 Axes>"
            ]
          },
          "metadata": {
            "needs_background": "light"
          }
        }
      ]
    },
    {
      "cell_type": "code",
      "metadata": {
        "colab": {
          "base_uri": "https://localhost:8080/",
          "height": 334
        },
        "id": "MBWgpj0wVsuA",
        "outputId": "1e7e0b0b-61fc-4327-ea1e-e61afd2ca487"
      },
      "source": [
        "plt.figure(figsize=(13,4))\n",
        "sns.countplot(dataset[\"EDUCATION_TYPE\"],hue=\"TARGET\",data=dataset,palette=\"RdPu_r\")\n",
        "plt.show()"
      ],
      "execution_count": null,
      "outputs": [
        {
          "output_type": "stream",
          "name": "stderr",
          "text": [
            "/usr/local/lib/python3.7/dist-packages/seaborn/_decorators.py:43: FutureWarning: Pass the following variable as a keyword arg: x. From version 0.12, the only valid positional argument will be `data`, and passing other arguments without an explicit keyword will result in an error or misinterpretation.\n",
            "  FutureWarning\n"
          ]
        },
        {
          "output_type": "display_data",
          "data": {
            "image/png": "[encoded data removed]",
            "text/plain": [
              "<Figure size 936x288 with 1 Axes>"
            ]
          },
          "metadata": {
            "needs_background": "light"
          }
        }
      ]
    },
    {
      "cell_type": "code",
      "metadata": {
        "colab": {
          "base_uri": "https://localhost:8080/",
          "height": 334
        },
        "id": "NchRagG2Zqhy",
        "outputId": "06bd685c-66ed-4cee-92a2-7c2170be2df0"
      },
      "source": [
        "plt.figure(figsize=(13,4))\n",
        "sns.countplot(dataset[\"FAMILY_TYPE\"],hue=\"TARGET\",data=dataset,palette=\"RdPu_r\")\n",
        "plt.show()"
      ],
      "execution_count": null,
      "outputs": [
        {
          "output_type": "stream",
          "name": "stderr",
          "text": [
            "/usr/local/lib/python3.7/dist-packages/seaborn/_decorators.py:43: FutureWarning: Pass the following variable as a keyword arg: x. From version 0.12, the only valid positional argument will be `data`, and passing other arguments without an explicit keyword will result in an error or misinterpretation.\n",
            "  FutureWarning\n"
          ]
        },
        {
          "output_type": "display_data",
          "data": {
            "image/png": "[encoded data removed]",
            "text/plain": [
              "<Figure size 936x288 with 1 Axes>"
            ]
          },
          "metadata": {
            "needs_background": "light"
          }
        }
      ]
    },
    {
      "cell_type": "code",
      "metadata": {
        "colab": {
          "base_uri": "https://localhost:8080/",
          "height": 346
        },
        "id": "MBPdU3RMZy5O",
        "outputId": "3f9421d4-1f84-41f4-c3df-cc33dd4a9d81"
      },
      "source": [
        "plt.figure(figsize=(13,5))\n",
        "sns.boxplot(x=\"HOUSE_TYPE\",y=\"INCOME\",data=dataset,hue=\"TARGET\",palette=\"Purples\")\n",
        "plt.show()"
      ],
      "execution_count": null,
      "outputs": [
        {
          "output_type": "display_data",
          "data": {
            "image/png": "[encoded data removed]",
            "text/plain": [
              "<Figure size 936x360 with 1 Axes>"
            ]
          },
          "metadata": {
            "needs_background": "light"
          }
        }
      ]
    },
    {
      "cell_type": "code",
      "metadata": {
        "colab": {
          "base_uri": "https://localhost:8080/",
          "height": 334
        },
        "id": "_1nwvFBCZ_fI",
        "outputId": "9b67ea33-170c-4d5c-d861-1be879c59dc6"
      },
      "source": [
        "sns.boxplot(dataset[\"YEARS_EMPLOYED\"])\n",
        "plt.show()"
      ],
      "execution_count": null,
      "outputs": [
        {
          "output_type": "stream",
          "name": "stderr",
          "text": [
            "/usr/local/lib/python3.7/dist-packages/seaborn/_decorators.py:43: FutureWarning: Pass the following variable as a keyword arg: x. From version 0.12, the only valid positional argument will be `data`, and passing other arguments without an explicit keyword will result in an error or misinterpretation.\n",
            "  FutureWarning\n"
          ]
        },
        {
          "output_type": "display_data",
          "data": {
            "image/png": "[encoded data removed]",
            "text/plain": [
              "<Figure size 432x288 with 1 Axes>"
            ]
          },
          "metadata": {
            "needs_background": "light"
          }
        }
      ]
    },
    {
      "cell_type": "code",
      "metadata": {
        "colab": {
          "base_uri": "https://localhost:8080/",
          "height": 334
        },
        "id": "13PI3HkiaKg_",
        "outputId": "685a6cfe-e885-40aa-bc22-cff9d280ee9d"
      },
      "source": [
        "plt.figure(figsize=(12,4))\n",
        "sns.countplot(dataset[\"YEARS_EMPLOYED\"])\n",
        "plt.show()"
      ],
      "execution_count": null,
      "outputs": [
        {
          "output_type": "stream",
          "name": "stderr",
          "text": [
            "/usr/local/lib/python3.7/dist-packages/seaborn/_decorators.py:43: FutureWarning: Pass the following variable as a keyword arg: x. From version 0.12, the only valid positional argument will be `data`, and passing other arguments without an explicit keyword will result in an error or misinterpretation.\n",
            "  FutureWarning\n"
          ]
        },
        {
          "output_type": "display_data",
          "data": {
            "image/png": "[encoded data removed]",
            "text/plain": [
              "<Figure size 864x288 with 1 Axes>"
            ]
          },
          "metadata": {
            "needs_background": "light"
          }
        }
      ]
    },
    {
      "cell_type": "code",
      "metadata": {
        "colab": {
          "base_uri": "https://localhost:8080/",
          "height": 354
        },
        "id": "ho5dYXmbaZ-0",
        "outputId": "d180feb2-bf2b-4230-8b76-f5ea5e5efb45"
      },
      "source": [
        "plt.figure(figsize=(12,4))\n",
        "sns.countplot(dataset[\"YEARS_EMPLOYED\"],hue=\"TARGET\",data=dataset)\n",
        "plt.title(\"YEARS_EMPLOYED vs  TARGET\",fontsize=20,color=\"BLUE\")\n",
        "plt.legend()\n",
        "plt.show()"
      ],
      "execution_count": null,
      "outputs": [
        {
          "output_type": "stream",
          "name": "stderr",
          "text": [
            "/usr/local/lib/python3.7/dist-packages/seaborn/_decorators.py:43: FutureWarning: Pass the following variable as a keyword arg: x. From version 0.12, the only valid positional argument will be `data`, and passing other arguments without an explicit keyword will result in an error or misinterpretation.\n",
            "  FutureWarning\n"
          ]
        },
        {
          "output_type": "display_data",
          "data": {
            "image/png": "[encoded data removed]",
            "text/plain": [
              "<Figure size 864x288 with 1 Axes>"
            ]
          },
          "metadata": {
            "needs_background": "light"
          }
        }
      ]
    },
    {
      "cell_type": "code",
      "metadata": {
        "colab": {
          "base_uri": "https://localhost:8080/",
          "height": 632
        },
        "id": "kGCvMtZ7aiWd",
        "outputId": "aa2d3284-55f2-4f9f-9e82-86829152c055"
      },
      "source": [
        "#checking the frequency of BEGIN_MONTH\n",
        "plt.figure(figsize=(15,4))\n",
        "sns.countplot(dataset[\"BEGIN_MONTH\"])\n",
        "plt.figure(figsize=(15,4))\n",
        "sns.countplot(dataset[\"BEGIN_MONTH\"],hue=\"TARGET\",data=dataset)\n",
        "plt.show()"
      ],
      "execution_count": null,
      "outputs": [
        {
          "output_type": "stream",
          "name": "stderr",
          "text": [
            "/usr/local/lib/python3.7/dist-packages/seaborn/_decorators.py:43: FutureWarning: Pass the following variable as a keyword arg: x. From version 0.12, the only valid positional argument will be `data`, and passing other arguments without an explicit keyword will result in an error or misinterpretation.\n",
            "  FutureWarning\n",
            "/usr/local/lib/python3.7/dist-packages/seaborn/_decorators.py:43: FutureWarning: Pass the following variable as a keyword arg: x. From version 0.12, the only valid positional argument will be `data`, and passing other arguments without an explicit keyword will result in an error or misinterpretation.\n",
            "  FutureWarning\n"
          ]
        },
        {
          "output_type": "display_data",
          "data": {
            "image/png": "[encoded data removed]",
            "text/plain": [
              "<Figure size 1080x288 with 1 Axes>"
            ]
          },
          "metadata": {
            "needs_background": "light"
          }
        },
        {
          "output_type": "display_data",
          "data": {
            "image/png": "[encoded data removed]",
            "text/plain": [
              "<Figure size 1080x288 with 1 Axes>"
            ]
          },
          "metadata": {
            "needs_background": "light"
          }
        }
      ]
    },
    {
      "cell_type": "code",
      "metadata": {
        "colab": {
          "base_uri": "https://localhost:8080/",
          "height": 368
        },
        "id": "W5lYYHMKcOJS",
        "outputId": "c463e4ed-66d2-461c-d78d-6caa4fecff81"
      },
      "source": [
        "plt.figure(figsize=(12,4))\n",
        "plt.subplot(121)\n",
        "sns.countplot(dataset[\"CAR\"],palette=\"Blues\")\n",
        "plt.subplot(122)\n",
        "sns.countplot(dataset.CAR,hue=\"TARGET\",data=dataset,palette=\"Blues\")\n",
        "plt.show()"
      ],
      "execution_count": null,
      "outputs": [
        {
          "output_type": "stream",
          "name": "stderr",
          "text": [
            "/usr/local/lib/python3.7/dist-packages/seaborn/_decorators.py:43: FutureWarning: Pass the following variable as a keyword arg: x. From version 0.12, the only valid positional argument will be `data`, and passing other arguments without an explicit keyword will result in an error or misinterpretation.\n",
            "  FutureWarning\n",
            "/usr/local/lib/python3.7/dist-packages/seaborn/_decorators.py:43: FutureWarning: Pass the following variable as a keyword arg: x. From version 0.12, the only valid positional argument will be `data`, and passing other arguments without an explicit keyword will result in an error or misinterpretation.\n",
            "  FutureWarning\n"
          ]
        },
        {
          "output_type": "display_data",
          "data": {
            "image/png": "[encoded data removed]",
            "text/plain": [
              "<Figure size 864x288 with 2 Axes>"
            ]
          },
          "metadata": {
            "needs_background": "light"
          }
        }
      ]
    },
    {
      "cell_type": "code",
      "metadata": {
        "id": "aK2Vf1ewcinb"
      },
      "source": [
        "#these columns have continuous values other are having discrete entries\n",
        "cont=dataset[[\"INCOME\",\"BEGIN_MONTH\",\"AGE\",\"YEARS_EMPLOYED\"]]"
      ],
      "execution_count": null,
      "outputs": []
    },
    {
      "cell_type": "code",
      "metadata": {
        "colab": {
          "base_uri": "https://localhost:8080/",
          "height": 461
        },
        "id": "d-k7tnHSfRn6",
        "outputId": "ac9eebb5-8fd9-402e-a2fd-4eec3e6a79d6"
      },
      "source": [
        "#Using Boxplot to detect the outliers-\n",
        "plt.figure(figsize=(15,12))\n",
        "\n",
        "for i ,col in enumerate(list(cont.columns)):\n",
        "    plt.subplot(4,2,i+1)\n",
        "    cont.boxplot(col)\n",
        "    plt.grid()\n",
        "    plt.tight_layout()"
      ],
      "execution_count": null,
      "outputs": [
        {
          "output_type": "display_data",
          "data": {
            "image/png": "[encoded data removed]",
            "text/plain": [
              "<Figure size 1080x864 with 4 Axes>"
            ]
          },
          "metadata": {
            "needs_background": "light"
          }
        }
      ]
    },
    {
      "cell_type": "code",
      "metadata": {
        "colab": {
          "base_uri": "https://localhost:8080/",
          "height": 520
        },
        "id": "jmHLtl63fZTE",
        "outputId": "a19d765e-647b-480c-ab7b-3c27dfbc79b0"
      },
      "source": [
        "# Distribution of columns those have continuous -\n",
        "#Histogram\n",
        "plt.figure(figsize=(15,10))\n",
        "\n",
        "for i ,cols in enumerate(list(cont.columns)):\n",
        "    plt.subplot(3,2,i+1)\n",
        "    sns.distplot(cont[cols])\n",
        "    plt.xlabel(cols,fontsize=14,color=\"Red\")\n",
        "    plt.grid()\n",
        "    plt.tight_layout()\n"
      ],
      "execution_count": null,
      "outputs": [
        {
          "output_type": "display_data",
          "data": {
            "image/png": "[encoded data removed]",
            "text/plain": [
              "<Figure size 1080x720 with 4 Axes>"
            ]
          },
          "metadata": {
            "needs_background": "light"
          }
        }
      ]
    },
    {
      "cell_type": "markdown",
      "metadata": {
        "id": "VYN1rhL4zEAE"
      },
      "source": [
        "## **Pre-Processing The Data**"
      ]
    },
    {
      "cell_type": "code",
      "metadata": {
        "id": "ZnYTpbSVRf25"
      },
      "source": [
        "#Flag_mobil columns is of no use as it has only one value\n",
        "dataset.drop(columns=['Unnamed: 0','FLAG_MOBIL'],inplace=True)"
      ],
      "execution_count": null,
      "outputs": []
    },
    {
      "cell_type": "code",
      "metadata": {
        "id": "Wkk7WagBpdh_"
      },
      "source": [
        "#removing values those are greater then 600000\n",
        "dataset=dataset[dataset['INCOME'] < 600000]"
      ],
      "execution_count": null,
      "outputs": []
    },
    {
      "cell_type": "code",
      "metadata": {
        "id": "NPra2Sqmqbe-"
      },
      "source": [
        "#Dropping the values greater the 20\n",
        "dataset=dataset[dataset['YEARS_EMPLOYED'] < 20]"
      ],
      "execution_count": null,
      "outputs": []
    },
    {
      "cell_type": "code",
      "metadata": {
        "id": "bsewIwOqqspE"
      },
      "source": [
        "dataset.drop(columns={\"ID\"},inplace=True,axis=1)"
      ],
      "execution_count": null,
      "outputs": []
    },
    {
      "cell_type": "code",
      "metadata": {
        "id": "y9t741frquhm"
      },
      "source": [
        "#converting float data types to INT64 datatype\n",
        "floats=[\"INCOME\",\"FAMILY SIZE\",\"BEGIN_MONTH\"]\n",
        "\n",
        "for i in floats:\n",
        "    dataset[i]=dataset[i].astype(\"int64\")"
      ],
      "execution_count": null,
      "outputs": []
    },
    {
      "cell_type": "code",
      "metadata": {
        "id": "rk148dHCwG3Y"
      },
      "source": [
        "labels=[\"GENDER\",\"CAR\",\"REALITY\",\"INCOME_TYPE\",\"EDUCATION_TYPE\",\"HOUSE_TYPE\",\"FAMILY_TYPE\"]\n",
        "label=LabelEncoder()\n",
        "\n",
        "for i in labels:\n",
        "    dataset[i]=label.fit_transform(dataset[i])"
      ],
      "execution_count": null,
      "outputs": []
    },
    {
      "cell_type": "code",
      "metadata": {
        "colab": {
          "base_uri": "https://localhost:8080/",
          "height": 241
        },
        "id": "V2edg01kwLz-",
        "outputId": "cef6f2e4-0618-4638-97d9-2f38beb26ae2"
      },
      "source": [
        "#dataset after using LabelEncoder\n",
        "dataset.head()"
      ],
      "execution_count": null,
      "outputs": [
        {
          "output_type": "execute_result",
          "data": {
            "text/html": [
              "<div>\n",
              "<style scoped>\n",
              "    .dataframe tbody tr th:only-of-type {\n",
              "        vertical-align: middle;\n",
              "    }\n",
              "\n",
              "    .dataframe tbody tr th {\n",
              "        vertical-align: top;\n",
              "    }\n",
              "\n",
              "    .dataframe thead th {\n",
              "        text-align: right;\n",
              "    }\n",
              "</style>\n",
              "<table border=\"1\" class=\"dataframe\">\n",
              "  <thead>\n",
              "    <tr style=\"text-align: right;\">\n",
              "      <th></th>\n",
              "      <th>GENDER</th>\n",
              "      <th>CAR</th>\n",
              "      <th>REALITY</th>\n",
              "      <th>NO_OF_CHILD</th>\n",
              "      <th>INCOME</th>\n",
              "      <th>INCOME_TYPE</th>\n",
              "      <th>EDUCATION_TYPE</th>\n",
              "      <th>FAMILY_TYPE</th>\n",
              "      <th>HOUSE_TYPE</th>\n",
              "      <th>WORK_PHONE</th>\n",
              "      <th>PHONE</th>\n",
              "      <th>E_MAIL</th>\n",
              "      <th>FAMILY SIZE</th>\n",
              "      <th>BEGIN_MONTH</th>\n",
              "      <th>AGE</th>\n",
              "      <th>YEARS_EMPLOYED</th>\n",
              "      <th>TARGET</th>\n",
              "    </tr>\n",
              "  </thead>\n",
              "  <tbody>\n",
              "    <tr>\n",
              "      <th>0</th>\n",
              "      <td>1</td>\n",
              "      <td>1</td>\n",
              "      <td>1</td>\n",
              "      <td>0</td>\n",
              "      <td>112500</td>\n",
              "      <td>4</td>\n",
              "      <td>4</td>\n",
              "      <td>1</td>\n",
              "      <td>1</td>\n",
              "      <td>0</td>\n",
              "      <td>0</td>\n",
              "      <td>0</td>\n",
              "      <td>2</td>\n",
              "      <td>29</td>\n",
              "      <td>59</td>\n",
              "      <td>3</td>\n",
              "      <td>0</td>\n",
              "    </tr>\n",
              "    <tr>\n",
              "      <th>1</th>\n",
              "      <td>0</td>\n",
              "      <td>0</td>\n",
              "      <td>1</td>\n",
              "      <td>0</td>\n",
              "      <td>270000</td>\n",
              "      <td>0</td>\n",
              "      <td>4</td>\n",
              "      <td>3</td>\n",
              "      <td>1</td>\n",
              "      <td>0</td>\n",
              "      <td>1</td>\n",
              "      <td>1</td>\n",
              "      <td>1</td>\n",
              "      <td>4</td>\n",
              "      <td>52</td>\n",
              "      <td>8</td>\n",
              "      <td>0</td>\n",
              "    </tr>\n",
              "    <tr>\n",
              "      <th>2</th>\n",
              "      <td>0</td>\n",
              "      <td>0</td>\n",
              "      <td>1</td>\n",
              "      <td>0</td>\n",
              "      <td>270000</td>\n",
              "      <td>0</td>\n",
              "      <td>4</td>\n",
              "      <td>3</td>\n",
              "      <td>1</td>\n",
              "      <td>0</td>\n",
              "      <td>1</td>\n",
              "      <td>1</td>\n",
              "      <td>1</td>\n",
              "      <td>26</td>\n",
              "      <td>52</td>\n",
              "      <td>8</td>\n",
              "      <td>0</td>\n",
              "    </tr>\n",
              "    <tr>\n",
              "      <th>3</th>\n",
              "      <td>0</td>\n",
              "      <td>0</td>\n",
              "      <td>1</td>\n",
              "      <td>0</td>\n",
              "      <td>270000</td>\n",
              "      <td>0</td>\n",
              "      <td>4</td>\n",
              "      <td>3</td>\n",
              "      <td>1</td>\n",
              "      <td>0</td>\n",
              "      <td>1</td>\n",
              "      <td>1</td>\n",
              "      <td>1</td>\n",
              "      <td>26</td>\n",
              "      <td>52</td>\n",
              "      <td>8</td>\n",
              "      <td>0</td>\n",
              "    </tr>\n",
              "    <tr>\n",
              "      <th>4</th>\n",
              "      <td>0</td>\n",
              "      <td>0</td>\n",
              "      <td>1</td>\n",
              "      <td>0</td>\n",
              "      <td>270000</td>\n",
              "      <td>0</td>\n",
              "      <td>4</td>\n",
              "      <td>3</td>\n",
              "      <td>1</td>\n",
              "      <td>0</td>\n",
              "      <td>1</td>\n",
              "      <td>1</td>\n",
              "      <td>1</td>\n",
              "      <td>38</td>\n",
              "      <td>52</td>\n",
              "      <td>8</td>\n",
              "      <td>0</td>\n",
              "    </tr>\n",
              "  </tbody>\n",
              "</table>\n",
              "</div>"
            ],
            "text/plain": [
              "   GENDER  CAR  REALITY  NO_OF_CHILD  ...  BEGIN_MONTH  AGE  YEARS_EMPLOYED  TARGET\n",
              "0       1    1        1            0  ...           29   59               3       0\n",
              "1       0    0        1            0  ...            4   52               8       0\n",
              "2       0    0        1            0  ...           26   52               8       0\n",
              "3       0    0        1            0  ...           26   52               8       0\n",
              "4       0    0        1            0  ...           38   52               8       0\n",
              "\n",
              "[5 rows x 17 columns]"
            ]
          },
          "metadata": {},
          "execution_count": 10
        }
      ]
    },
    {
      "cell_type": "code",
      "metadata": {
        "colab": {
          "base_uri": "https://localhost:8080/",
          "height": 613
        },
        "id": "OStIIKUdSEPD",
        "outputId": "65da0dea-f80f-4e73-a914-ca2983ec1a96"
      },
      "source": [
        "#corr of the \n",
        "dataset.corr()"
      ],
      "execution_count": null,
      "outputs": [
        {
          "output_type": "execute_result",
          "data": {
            "text/html": [
              "<div>\n",
              "<style scoped>\n",
              "    .dataframe tbody tr th:only-of-type {\n",
              "        vertical-align: middle;\n",
              "    }\n",
              "\n",
              "    .dataframe tbody tr th {\n",
              "        vertical-align: top;\n",
              "    }\n",
              "\n",
              "    .dataframe thead th {\n",
              "        text-align: right;\n",
              "    }\n",
              "</style>\n",
              "<table border=\"1\" class=\"dataframe\">\n",
              "  <thead>\n",
              "    <tr style=\"text-align: right;\">\n",
              "      <th></th>\n",
              "      <th>GENDER</th>\n",
              "      <th>CAR</th>\n",
              "      <th>REALITY</th>\n",
              "      <th>NO_OF_CHILD</th>\n",
              "      <th>INCOME</th>\n",
              "      <th>INCOME_TYPE</th>\n",
              "      <th>EDUCATION_TYPE</th>\n",
              "      <th>FAMILY_TYPE</th>\n",
              "      <th>HOUSE_TYPE</th>\n",
              "      <th>WORK_PHONE</th>\n",
              "      <th>PHONE</th>\n",
              "      <th>E_MAIL</th>\n",
              "      <th>FAMILY SIZE</th>\n",
              "      <th>BEGIN_MONTH</th>\n",
              "      <th>AGE</th>\n",
              "      <th>YEARS_EMPLOYED</th>\n",
              "      <th>TARGET</th>\n",
              "    </tr>\n",
              "  </thead>\n",
              "  <tbody>\n",
              "    <tr>\n",
              "      <th>GENDER</th>\n",
              "      <td>1.000000</td>\n",
              "      <td>0.335480</td>\n",
              "      <td>-0.038093</td>\n",
              "      <td>0.007133</td>\n",
              "      <td>0.215555</td>\n",
              "      <td>0.054693</td>\n",
              "      <td>0.049496</td>\n",
              "      <td>-0.048857</td>\n",
              "      <td>0.050642</td>\n",
              "      <td>0.016151</td>\n",
              "      <td>-0.022394</td>\n",
              "      <td>-0.029970</td>\n",
              "      <td>0.033294</td>\n",
              "      <td>-0.004875</td>\n",
              "      <td>-0.088454</td>\n",
              "      <td>-0.074834</td>\n",
              "      <td>0.018699</td>\n",
              "    </tr>\n",
              "    <tr>\n",
              "      <th>CAR</th>\n",
              "      <td>0.335480</td>\n",
              "      <td>1.000000</td>\n",
              "      <td>0.010930</td>\n",
              "      <td>0.060831</td>\n",
              "      <td>0.213636</td>\n",
              "      <td>0.001591</td>\n",
              "      <td>-0.072167</td>\n",
              "      <td>-0.098587</td>\n",
              "      <td>0.005645</td>\n",
              "      <td>-0.024479</td>\n",
              "      <td>-0.025668</td>\n",
              "      <td>0.001649</td>\n",
              "      <td>0.104713</td>\n",
              "      <td>0.026117</td>\n",
              "      <td>-0.052365</td>\n",
              "      <td>-0.002096</td>\n",
              "      <td>-0.003231</td>\n",
              "    </tr>\n",
              "    <tr>\n",
              "      <th>REALITY</th>\n",
              "      <td>-0.038093</td>\n",
              "      <td>0.010930</td>\n",
              "      <td>1.000000</td>\n",
              "      <td>0.021140</td>\n",
              "      <td>0.030626</td>\n",
              "      <td>-0.029387</td>\n",
              "      <td>0.008892</td>\n",
              "      <td>0.001889</td>\n",
              "      <td>-0.176601</td>\n",
              "      <td>-0.207793</td>\n",
              "      <td>-0.060026</td>\n",
              "      <td>0.062439</td>\n",
              "      <td>0.021296</td>\n",
              "      <td>-0.011152</td>\n",
              "      <td>0.089129</td>\n",
              "      <td>-0.008422</td>\n",
              "      <td>-0.022924</td>\n",
              "    </tr>\n",
              "    <tr>\n",
              "      <th>NO_OF_CHILD</th>\n",
              "      <td>0.007133</td>\n",
              "      <td>0.060831</td>\n",
              "      <td>0.021140</td>\n",
              "      <td>1.000000</td>\n",
              "      <td>-0.034394</td>\n",
              "      <td>0.041044</td>\n",
              "      <td>-0.024205</td>\n",
              "      <td>-0.161934</td>\n",
              "      <td>0.004803</td>\n",
              "      <td>-0.000719</td>\n",
              "      <td>-0.013026</td>\n",
              "      <td>-0.016472</td>\n",
              "      <td>0.905458</td>\n",
              "      <td>0.006449</td>\n",
              "      <td>-0.238263</td>\n",
              "      <td>0.015776</td>\n",
              "      <td>-0.003085</td>\n",
              "    </tr>\n",
              "    <tr>\n",
              "      <th>INCOME</th>\n",
              "      <td>0.215555</td>\n",
              "      <td>0.213636</td>\n",
              "      <td>0.030626</td>\n",
              "      <td>-0.034394</td>\n",
              "      <td>1.000000</td>\n",
              "      <td>-0.151565</td>\n",
              "      <td>-0.201597</td>\n",
              "      <td>0.036170</td>\n",
              "      <td>-0.007361</td>\n",
              "      <td>-0.098489</td>\n",
              "      <td>0.006639</td>\n",
              "      <td>0.068385</td>\n",
              "      <td>-0.045235</td>\n",
              "      <td>0.031696</td>\n",
              "      <td>0.053488</td>\n",
              "      <td>0.044452</td>\n",
              "      <td>0.011164</td>\n",
              "    </tr>\n",
              "    <tr>\n",
              "      <th>INCOME_TYPE</th>\n",
              "      <td>0.054693</td>\n",
              "      <td>0.001591</td>\n",
              "      <td>-0.029387</td>\n",
              "      <td>0.041044</td>\n",
              "      <td>-0.151565</td>\n",
              "      <td>1.000000</td>\n",
              "      <td>0.105883</td>\n",
              "      <td>-0.012714</td>\n",
              "      <td>-0.008985</td>\n",
              "      <td>0.079314</td>\n",
              "      <td>0.002694</td>\n",
              "      <td>-0.042644</td>\n",
              "      <td>0.043303</td>\n",
              "      <td>-0.005473</td>\n",
              "      <td>0.001142</td>\n",
              "      <td>0.024137</td>\n",
              "      <td>-0.001414</td>\n",
              "    </tr>\n",
              "    <tr>\n",
              "      <th>EDUCATION_TYPE</th>\n",
              "      <td>0.049496</td>\n",
              "      <td>-0.072167</td>\n",
              "      <td>0.008892</td>\n",
              "      <td>-0.024205</td>\n",
              "      <td>-0.201597</td>\n",
              "      <td>0.105883</td>\n",
              "      <td>1.000000</td>\n",
              "      <td>-0.001881</td>\n",
              "      <td>-0.029707</td>\n",
              "      <td>0.007729</td>\n",
              "      <td>-0.054091</td>\n",
              "      <td>-0.105592</td>\n",
              "      <td>-0.019444</td>\n",
              "      <td>-0.013024</td>\n",
              "      <td>0.144156</td>\n",
              "      <td>0.020961</td>\n",
              "      <td>-0.010094</td>\n",
              "    </tr>\n",
              "    <tr>\n",
              "      <th>FAMILY_TYPE</th>\n",
              "      <td>-0.048857</td>\n",
              "      <td>-0.098587</td>\n",
              "      <td>0.001889</td>\n",
              "      <td>-0.161934</td>\n",
              "      <td>0.036170</td>\n",
              "      <td>-0.012714</td>\n",
              "      <td>-0.001881</td>\n",
              "      <td>1.000000</td>\n",
              "      <td>0.040743</td>\n",
              "      <td>-0.048622</td>\n",
              "      <td>-0.026204</td>\n",
              "      <td>-0.013375</td>\n",
              "      <td>-0.520295</td>\n",
              "      <td>-0.042932</td>\n",
              "      <td>0.011540</td>\n",
              "      <td>-0.033102</td>\n",
              "      <td>0.022860</td>\n",
              "    </tr>\n",
              "    <tr>\n",
              "      <th>HOUSE_TYPE</th>\n",
              "      <td>0.050642</td>\n",
              "      <td>0.005645</td>\n",
              "      <td>-0.176601</td>\n",
              "      <td>0.004803</td>\n",
              "      <td>-0.007361</td>\n",
              "      <td>-0.008985</td>\n",
              "      <td>-0.029707</td>\n",
              "      <td>0.040743</td>\n",
              "      <td>1.000000</td>\n",
              "      <td>0.002463</td>\n",
              "      <td>-0.024382</td>\n",
              "      <td>-0.007611</td>\n",
              "      <td>-0.018643</td>\n",
              "      <td>-0.028966</td>\n",
              "      <td>-0.181886</td>\n",
              "      <td>-0.056428</td>\n",
              "      <td>0.001291</td>\n",
              "    </tr>\n",
              "    <tr>\n",
              "      <th>WORK_PHONE</th>\n",
              "      <td>0.016151</td>\n",
              "      <td>-0.024479</td>\n",
              "      <td>-0.207793</td>\n",
              "      <td>-0.000719</td>\n",
              "      <td>-0.098489</td>\n",
              "      <td>0.079314</td>\n",
              "      <td>0.007729</td>\n",
              "      <td>-0.048622</td>\n",
              "      <td>0.002463</td>\n",
              "      <td>1.000000</td>\n",
              "      <td>0.364953</td>\n",
              "      <td>-0.064787</td>\n",
              "      <td>0.016321</td>\n",
              "      <td>0.013210</td>\n",
              "      <td>-0.045377</td>\n",
              "      <td>0.012513</td>\n",
              "      <td>0.007058</td>\n",
              "    </tr>\n",
              "    <tr>\n",
              "      <th>PHONE</th>\n",
              "      <td>-0.022394</td>\n",
              "      <td>-0.025668</td>\n",
              "      <td>-0.060026</td>\n",
              "      <td>-0.013026</td>\n",
              "      <td>0.006639</td>\n",
              "      <td>0.002694</td>\n",
              "      <td>-0.054091</td>\n",
              "      <td>-0.026204</td>\n",
              "      <td>-0.024382</td>\n",
              "      <td>0.364953</td>\n",
              "      <td>1.000000</td>\n",
              "      <td>0.008374</td>\n",
              "      <td>-0.000742</td>\n",
              "      <td>0.018381</td>\n",
              "      <td>0.016528</td>\n",
              "      <td>0.032510</td>\n",
              "      <td>0.006829</td>\n",
              "    </tr>\n",
              "    <tr>\n",
              "      <th>E_MAIL</th>\n",
              "      <td>-0.029970</td>\n",
              "      <td>0.001649</td>\n",
              "      <td>0.062439</td>\n",
              "      <td>-0.016472</td>\n",
              "      <td>0.068385</td>\n",
              "      <td>-0.042644</td>\n",
              "      <td>-0.105592</td>\n",
              "      <td>-0.013375</td>\n",
              "      <td>-0.007611</td>\n",
              "      <td>-0.064787</td>\n",
              "      <td>0.008374</td>\n",
              "      <td>1.000000</td>\n",
              "      <td>-0.012671</td>\n",
              "      <td>-0.003078</td>\n",
              "      <td>-0.060763</td>\n",
              "      <td>-0.039623</td>\n",
              "      <td>0.002363</td>\n",
              "    </tr>\n",
              "    <tr>\n",
              "      <th>FAMILY SIZE</th>\n",
              "      <td>0.033294</td>\n",
              "      <td>0.104713</td>\n",
              "      <td>0.021296</td>\n",
              "      <td>0.905458</td>\n",
              "      <td>-0.045235</td>\n",
              "      <td>0.043303</td>\n",
              "      <td>-0.019444</td>\n",
              "      <td>-0.520295</td>\n",
              "      <td>-0.018643</td>\n",
              "      <td>0.016321</td>\n",
              "      <td>-0.000742</td>\n",
              "      <td>-0.012671</td>\n",
              "      <td>1.000000</td>\n",
              "      <td>0.027829</td>\n",
              "      <td>-0.192292</td>\n",
              "      <td>0.036397</td>\n",
              "      <td>-0.008361</td>\n",
              "    </tr>\n",
              "    <tr>\n",
              "      <th>BEGIN_MONTH</th>\n",
              "      <td>-0.004875</td>\n",
              "      <td>0.026117</td>\n",
              "      <td>-0.011152</td>\n",
              "      <td>0.006449</td>\n",
              "      <td>0.031696</td>\n",
              "      <td>-0.005473</td>\n",
              "      <td>-0.013024</td>\n",
              "      <td>-0.042932</td>\n",
              "      <td>-0.028966</td>\n",
              "      <td>0.013210</td>\n",
              "      <td>0.018381</td>\n",
              "      <td>-0.003078</td>\n",
              "      <td>0.027829</td>\n",
              "      <td>1.000000</td>\n",
              "      <td>0.085114</td>\n",
              "      <td>0.101022</td>\n",
              "      <td>0.064343</td>\n",
              "    </tr>\n",
              "    <tr>\n",
              "      <th>AGE</th>\n",
              "      <td>-0.088454</td>\n",
              "      <td>-0.052365</td>\n",
              "      <td>0.089129</td>\n",
              "      <td>-0.238263</td>\n",
              "      <td>0.053488</td>\n",
              "      <td>0.001142</td>\n",
              "      <td>0.144156</td>\n",
              "      <td>0.011540</td>\n",
              "      <td>-0.181886</td>\n",
              "      <td>-0.045377</td>\n",
              "      <td>0.016528</td>\n",
              "      <td>-0.060763</td>\n",
              "      <td>-0.192292</td>\n",
              "      <td>0.085114</td>\n",
              "      <td>1.000000</td>\n",
              "      <td>0.231710</td>\n",
              "      <td>-0.001911</td>\n",
              "    </tr>\n",
              "    <tr>\n",
              "      <th>YEARS_EMPLOYED</th>\n",
              "      <td>-0.074834</td>\n",
              "      <td>-0.002096</td>\n",
              "      <td>-0.008422</td>\n",
              "      <td>0.015776</td>\n",
              "      <td>0.044452</td>\n",
              "      <td>0.024137</td>\n",
              "      <td>0.020961</td>\n",
              "      <td>-0.033102</td>\n",
              "      <td>-0.056428</td>\n",
              "      <td>0.012513</td>\n",
              "      <td>0.032510</td>\n",
              "      <td>-0.039623</td>\n",
              "      <td>0.036397</td>\n",
              "      <td>0.101022</td>\n",
              "      <td>0.231710</td>\n",
              "      <td>1.000000</td>\n",
              "      <td>-0.032073</td>\n",
              "    </tr>\n",
              "    <tr>\n",
              "      <th>TARGET</th>\n",
              "      <td>0.018699</td>\n",
              "      <td>-0.003231</td>\n",
              "      <td>-0.022924</td>\n",
              "      <td>-0.003085</td>\n",
              "      <td>0.011164</td>\n",
              "      <td>-0.001414</td>\n",
              "      <td>-0.010094</td>\n",
              "      <td>0.022860</td>\n",
              "      <td>0.001291</td>\n",
              "      <td>0.007058</td>\n",
              "      <td>0.006829</td>\n",
              "      <td>0.002363</td>\n",
              "      <td>-0.008361</td>\n",
              "      <td>0.064343</td>\n",
              "      <td>-0.001911</td>\n",
              "      <td>-0.032073</td>\n",
              "      <td>1.000000</td>\n",
              "    </tr>\n",
              "  </tbody>\n",
              "</table>\n",
              "</div>"
            ],
            "text/plain": [
              "                  GENDER       CAR  ...  YEARS_EMPLOYED    TARGET\n",
              "GENDER          1.000000  0.335480  ...       -0.074834  0.018699\n",
              "CAR             0.335480  1.000000  ...       -0.002096 -0.003231\n",
              "REALITY        -0.038093  0.010930  ...       -0.008422 -0.022924\n",
              "NO_OF_CHILD     0.007133  0.060831  ...        0.015776 -0.003085\n",
              "INCOME          0.215555  0.213636  ...        0.044452  0.011164\n",
              "INCOME_TYPE     0.054693  0.001591  ...        0.024137 -0.001414\n",
              "EDUCATION_TYPE  0.049496 -0.072167  ...        0.020961 -0.010094\n",
              "FAMILY_TYPE    -0.048857 -0.098587  ...       -0.033102  0.022860\n",
              "HOUSE_TYPE      0.050642  0.005645  ...       -0.056428  0.001291\n",
              "WORK_PHONE      0.016151 -0.024479  ...        0.012513  0.007058\n",
              "PHONE          -0.022394 -0.025668  ...        0.032510  0.006829\n",
              "E_MAIL         -0.029970  0.001649  ...       -0.039623  0.002363\n",
              "FAMILY SIZE     0.033294  0.104713  ...        0.036397 -0.008361\n",
              "BEGIN_MONTH    -0.004875  0.026117  ...        0.101022  0.064343\n",
              "AGE            -0.088454 -0.052365  ...        0.231710 -0.001911\n",
              "YEARS_EMPLOYED -0.074834 -0.002096  ...        1.000000 -0.032073\n",
              "TARGET          0.018699 -0.003231  ...       -0.032073  1.000000\n",
              "\n",
              "[17 rows x 17 columns]"
            ]
          },
          "metadata": {},
          "execution_count": 16
        }
      ]
    },
    {
      "cell_type": "code",
      "metadata": {
        "colab": {
          "base_uri": "https://localhost:8080/",
          "height": 676
        },
        "id": "kcSHoNLcSLzc",
        "outputId": "10010fca-6a49-4011-88a2-cc315ac4132b"
      },
      "source": [
        "plt.figure(figsize=(13,10))\n",
        "sns.heatmap(dataset.corr(),annot=True,fmt='.2',cmap=\"Greys\")\n",
        "plt.show()"
      ],
      "execution_count": null,
      "outputs": [
        {
          "output_type": "display_data",
          "data": {
            "image/png": "[encoded data removed]",
            "text/plain": [
              "<Figure size 936x720 with 2 Axes>"
            ]
          },
          "metadata": {
            "needs_background": "light"
          }
        }
      ]
    },
    {
      "cell_type": "code",
      "metadata": {
        "id": "3ubPS4lnST0A"
      },
      "source": [
        "#FAMILY_SIZE and NO_OF_CHILD are highly correlated to each other so we can drop one feature form the dataset\n",
        "dataset.drop('NO_OF_CHILD',inplace=True,axis=1)"
      ],
      "execution_count": null,
      "outputs": []
    },
    {
      "cell_type": "code",
      "metadata": {
        "colab": {
          "base_uri": "https://localhost:8080/",
          "height": 221
        },
        "id": "oTUJ9HEHSkG9",
        "outputId": "a420a825-e580-48b0-9217-826ccd482791"
      },
      "source": [
        "dataset.head()"
      ],
      "execution_count": null,
      "outputs": [
        {
          "output_type": "execute_result",
          "data": {
            "text/html": [
              "<div>\n",
              "<style scoped>\n",
              "    .dataframe tbody tr th:only-of-type {\n",
              "        vertical-align: middle;\n",
              "    }\n",
              "\n",
              "    .dataframe tbody tr th {\n",
              "        vertical-align: top;\n",
              "    }\n",
              "\n",
              "    .dataframe thead th {\n",
              "        text-align: right;\n",
              "    }\n",
              "</style>\n",
              "<table border=\"1\" class=\"dataframe\">\n",
              "  <thead>\n",
              "    <tr style=\"text-align: right;\">\n",
              "      <th></th>\n",
              "      <th>GENDER</th>\n",
              "      <th>CAR</th>\n",
              "      <th>REALITY</th>\n",
              "      <th>INCOME</th>\n",
              "      <th>INCOME_TYPE</th>\n",
              "      <th>EDUCATION_TYPE</th>\n",
              "      <th>FAMILY_TYPE</th>\n",
              "      <th>HOUSE_TYPE</th>\n",
              "      <th>WORK_PHONE</th>\n",
              "      <th>PHONE</th>\n",
              "      <th>E_MAIL</th>\n",
              "      <th>FAMILY SIZE</th>\n",
              "      <th>BEGIN_MONTH</th>\n",
              "      <th>AGE</th>\n",
              "      <th>YEARS_EMPLOYED</th>\n",
              "      <th>TARGET</th>\n",
              "    </tr>\n",
              "  </thead>\n",
              "  <tbody>\n",
              "    <tr>\n",
              "      <th>0</th>\n",
              "      <td>1</td>\n",
              "      <td>1</td>\n",
              "      <td>1</td>\n",
              "      <td>112500</td>\n",
              "      <td>4</td>\n",
              "      <td>4</td>\n",
              "      <td>1</td>\n",
              "      <td>1</td>\n",
              "      <td>0</td>\n",
              "      <td>0</td>\n",
              "      <td>0</td>\n",
              "      <td>2</td>\n",
              "      <td>29</td>\n",
              "      <td>59</td>\n",
              "      <td>3</td>\n",
              "      <td>0</td>\n",
              "    </tr>\n",
              "    <tr>\n",
              "      <th>1</th>\n",
              "      <td>0</td>\n",
              "      <td>0</td>\n",
              "      <td>1</td>\n",
              "      <td>270000</td>\n",
              "      <td>0</td>\n",
              "      <td>4</td>\n",
              "      <td>3</td>\n",
              "      <td>1</td>\n",
              "      <td>0</td>\n",
              "      <td>1</td>\n",
              "      <td>1</td>\n",
              "      <td>1</td>\n",
              "      <td>4</td>\n",
              "      <td>52</td>\n",
              "      <td>8</td>\n",
              "      <td>0</td>\n",
              "    </tr>\n",
              "    <tr>\n",
              "      <th>2</th>\n",
              "      <td>0</td>\n",
              "      <td>0</td>\n",
              "      <td>1</td>\n",
              "      <td>270000</td>\n",
              "      <td>0</td>\n",
              "      <td>4</td>\n",
              "      <td>3</td>\n",
              "      <td>1</td>\n",
              "      <td>0</td>\n",
              "      <td>1</td>\n",
              "      <td>1</td>\n",
              "      <td>1</td>\n",
              "      <td>26</td>\n",
              "      <td>52</td>\n",
              "      <td>8</td>\n",
              "      <td>0</td>\n",
              "    </tr>\n",
              "    <tr>\n",
              "      <th>3</th>\n",
              "      <td>0</td>\n",
              "      <td>0</td>\n",
              "      <td>1</td>\n",
              "      <td>270000</td>\n",
              "      <td>0</td>\n",
              "      <td>4</td>\n",
              "      <td>3</td>\n",
              "      <td>1</td>\n",
              "      <td>0</td>\n",
              "      <td>1</td>\n",
              "      <td>1</td>\n",
              "      <td>1</td>\n",
              "      <td>26</td>\n",
              "      <td>52</td>\n",
              "      <td>8</td>\n",
              "      <td>0</td>\n",
              "    </tr>\n",
              "    <tr>\n",
              "      <th>4</th>\n",
              "      <td>0</td>\n",
              "      <td>0</td>\n",
              "      <td>1</td>\n",
              "      <td>270000</td>\n",
              "      <td>0</td>\n",
              "      <td>4</td>\n",
              "      <td>3</td>\n",
              "      <td>1</td>\n",
              "      <td>0</td>\n",
              "      <td>1</td>\n",
              "      <td>1</td>\n",
              "      <td>1</td>\n",
              "      <td>38</td>\n",
              "      <td>52</td>\n",
              "      <td>8</td>\n",
              "      <td>0</td>\n",
              "    </tr>\n",
              "  </tbody>\n",
              "</table>\n",
              "</div>"
            ],
            "text/plain": [
              "   GENDER  CAR  REALITY  INCOME  ...  BEGIN_MONTH  AGE  YEARS_EMPLOYED  TARGET\n",
              "0       1    1        1  112500  ...           29   59               3       0\n",
              "1       0    0        1  270000  ...            4   52               8       0\n",
              "2       0    0        1  270000  ...           26   52               8       0\n",
              "3       0    0        1  270000  ...           26   52               8       0\n",
              "4       0    0        1  270000  ...           38   52               8       0\n",
              "\n",
              "[5 rows x 16 columns]"
            ]
          },
          "metadata": {},
          "execution_count": 12
        }
      ]
    },
    {
      "cell_type": "code",
      "metadata": {
        "id": "VQ7dlP_b6ZdJ"
      },
      "source": [
        "dataset.to_csv(r'/content/drive/MyDrive/Colab Notebooks/Credit Card Fraud\\cleaned_data.csv', index = False)\n"
      ],
      "execution_count": null,
      "outputs": []
    },
    {
      "cell_type": "code",
      "metadata": {
        "id": "goQkk-43iVBJ"
      },
      "source": [
        "new_data=dataset[[\"GENDER\",\"BEGIN_MONTH\",\"AGE\",\"INCOME\",\"YEARS_EMPLOYED\",\"FAMILY SIZE\",\"INCOME_TYPE\",\"FAMILY_TYPE\",\"WORK_PHONE\"\n",
        "                  ,\"PHONE\",\"HOUSE_TYPE\",\"EDUCATION_TYPE\",\"TARGET\"]]"
      ],
      "execution_count": null,
      "outputs": []
    },
    {
      "cell_type": "code",
      "metadata": {
        "colab": {
          "base_uri": "https://localhost:8080/"
        },
        "id": "Yx1SqtcbiX8T",
        "outputId": "501f89d1-7527-4c55-db80-deb487c46bbf"
      },
      "source": [
        "new_data.shape"
      ],
      "execution_count": null,
      "outputs": [
        {
          "output_type": "execute_result",
          "data": {
            "text/plain": [
              "(23361, 13)"
            ]
          },
          "metadata": {},
          "execution_count": 13
        }
      ]
    },
    {
      "cell_type": "code",
      "metadata": {
        "colab": {
          "base_uri": "https://localhost:8080/",
          "height": 204
        },
        "id": "A4wddIsbikNk",
        "outputId": "a13ae232-5d4a-4a29-c7e3-6fd771b5a5ab"
      },
      "source": [
        "new_data.head()"
      ],
      "execution_count": null,
      "outputs": [
        {
          "output_type": "execute_result",
          "data": {
            "text/html": [
              "<div>\n",
              "<style scoped>\n",
              "    .dataframe tbody tr th:only-of-type {\n",
              "        vertical-align: middle;\n",
              "    }\n",
              "\n",
              "    .dataframe tbody tr th {\n",
              "        vertical-align: top;\n",
              "    }\n",
              "\n",
              "    .dataframe thead th {\n",
              "        text-align: right;\n",
              "    }\n",
              "</style>\n",
              "<table border=\"1\" class=\"dataframe\">\n",
              "  <thead>\n",
              "    <tr style=\"text-align: right;\">\n",
              "      <th></th>\n",
              "      <th>GENDER</th>\n",
              "      <th>BEGIN_MONTH</th>\n",
              "      <th>AGE</th>\n",
              "      <th>INCOME</th>\n",
              "      <th>YEARS_EMPLOYED</th>\n",
              "      <th>FAMILY SIZE</th>\n",
              "      <th>INCOME_TYPE</th>\n",
              "      <th>FAMILY_TYPE</th>\n",
              "      <th>WORK_PHONE</th>\n",
              "      <th>PHONE</th>\n",
              "      <th>HOUSE_TYPE</th>\n",
              "      <th>EDUCATION_TYPE</th>\n",
              "      <th>TARGET</th>\n",
              "    </tr>\n",
              "  </thead>\n",
              "  <tbody>\n",
              "    <tr>\n",
              "      <th>0</th>\n",
              "      <td>1</td>\n",
              "      <td>29</td>\n",
              "      <td>59</td>\n",
              "      <td>112500</td>\n",
              "      <td>3</td>\n",
              "      <td>2</td>\n",
              "      <td>4</td>\n",
              "      <td>1</td>\n",
              "      <td>0</td>\n",
              "      <td>0</td>\n",
              "      <td>1</td>\n",
              "      <td>4</td>\n",
              "      <td>0</td>\n",
              "    </tr>\n",
              "    <tr>\n",
              "      <th>1</th>\n",
              "      <td>0</td>\n",
              "      <td>4</td>\n",
              "      <td>52</td>\n",
              "      <td>270000</td>\n",
              "      <td>8</td>\n",
              "      <td>1</td>\n",
              "      <td>0</td>\n",
              "      <td>3</td>\n",
              "      <td>0</td>\n",
              "      <td>1</td>\n",
              "      <td>1</td>\n",
              "      <td>4</td>\n",
              "      <td>0</td>\n",
              "    </tr>\n",
              "    <tr>\n",
              "      <th>2</th>\n",
              "      <td>0</td>\n",
              "      <td>26</td>\n",
              "      <td>52</td>\n",
              "      <td>270000</td>\n",
              "      <td>8</td>\n",
              "      <td>1</td>\n",
              "      <td>0</td>\n",
              "      <td>3</td>\n",
              "      <td>0</td>\n",
              "      <td>1</td>\n",
              "      <td>1</td>\n",
              "      <td>4</td>\n",
              "      <td>0</td>\n",
              "    </tr>\n",
              "    <tr>\n",
              "      <th>3</th>\n",
              "      <td>0</td>\n",
              "      <td>26</td>\n",
              "      <td>52</td>\n",
              "      <td>270000</td>\n",
              "      <td>8</td>\n",
              "      <td>1</td>\n",
              "      <td>0</td>\n",
              "      <td>3</td>\n",
              "      <td>0</td>\n",
              "      <td>1</td>\n",
              "      <td>1</td>\n",
              "      <td>4</td>\n",
              "      <td>0</td>\n",
              "    </tr>\n",
              "    <tr>\n",
              "      <th>4</th>\n",
              "      <td>0</td>\n",
              "      <td>38</td>\n",
              "      <td>52</td>\n",
              "      <td>270000</td>\n",
              "      <td>8</td>\n",
              "      <td>1</td>\n",
              "      <td>0</td>\n",
              "      <td>3</td>\n",
              "      <td>0</td>\n",
              "      <td>1</td>\n",
              "      <td>1</td>\n",
              "      <td>4</td>\n",
              "      <td>0</td>\n",
              "    </tr>\n",
              "  </tbody>\n",
              "</table>\n",
              "</div>"
            ],
            "text/plain": [
              "   GENDER  BEGIN_MONTH  AGE  INCOME  ...  PHONE  HOUSE_TYPE  EDUCATION_TYPE  TARGET\n",
              "0       1           29   59  112500  ...      0           1               4       0\n",
              "1       0            4   52  270000  ...      1           1               4       0\n",
              "2       0           26   52  270000  ...      1           1               4       0\n",
              "3       0           26   52  270000  ...      1           1               4       0\n",
              "4       0           38   52  270000  ...      1           1               4       0\n",
              "\n",
              "[5 rows x 13 columns]"
            ]
          },
          "metadata": {},
          "execution_count": 14
        }
      ]
    },
    {
      "cell_type": "markdown",
      "metadata": {
        "id": "3J4eYRpBzjSl"
      },
      "source": [
        ""
      ]
    },
    {
      "cell_type": "code",
      "metadata": {
        "colab": {
          "base_uri": "https://localhost:8080/"
        },
        "id": "aJ-kauEHgaBP",
        "outputId": "77829482-914e-4c42-b7f8-af5c31dc7e54"
      },
      "source": [
        "dummy_data=pd.get_dummies(new_data,columns={\"GENDER\",\"FAMILY SIZE\",\"INCOME_TYPE\",\"FAMILY_TYPE\",\"WORK_PHONE\",\"PHONE\",\n",
        "                                            \"HOUSE_TYPE\",\"EDUCATION_TYPE\"},drop_first=True)\n",
        "dummy_data.shape\n",
        "  "
      ],
      "execution_count": null,
      "outputs": [
        {
          "output_type": "execute_result",
          "data": {
            "text/plain": [
              "(23361, 34)"
            ]
          },
          "metadata": {},
          "execution_count": 33
        }
      ]
    },
    {
      "cell_type": "code",
      "metadata": {
        "id": "FpzC33Vki8DR"
      },
      "source": [
        "data=dummy_data.copy()"
      ],
      "execution_count": null,
      "outputs": []
    },
    {
      "cell_type": "code",
      "metadata": {
        "id": "5ESqFFi6i-Nz"
      },
      "source": [
        "data_minority=data[dataset[\"TARGET\"] == 1]\n",
        "data_majority=data[dataset[\"TARGET\"] == 0]"
      ],
      "execution_count": null,
      "outputs": []
    },
    {
      "cell_type": "code",
      "metadata": {
        "colab": {
          "base_uri": "https://localhost:8080/"
        },
        "id": "jutV0q_Yi-na",
        "outputId": "85423681-bcb8-49b5-a535-30d90c60ec99"
      },
      "source": [
        "print(\"Data_majority :\",data_majority.shape)\n",
        "print(\"Data_minority :\",data_minority.shape)"
      ],
      "execution_count": null,
      "outputs": [
        {
          "output_type": "stream",
          "name": "stdout",
          "text": [
            "Data_majority : (22957, 34)\n",
            "Data_minority : (404, 34)\n"
          ]
        }
      ]
    },
    {
      "cell_type": "code",
      "metadata": {
        "id": "fcKc9X0QjbiC"
      },
      "source": [
        "data_oversampled=data.copy()"
      ],
      "execution_count": null,
      "outputs": []
    },
    {
      "cell_type": "code",
      "metadata": {
        "colab": {
          "base_uri": "https://localhost:8080/"
        },
        "id": "U9bCYxyqjiHg",
        "outputId": "ee80245a-bdd9-4fe3-b446-38029a7a5e87"
      },
      "source": [
        "data_oversampled.TARGET.value_counts()"
      ],
      "execution_count": null,
      "outputs": [
        {
          "output_type": "execute_result",
          "data": {
            "text/plain": [
              "0    22957\n",
              "1      404\n",
              "Name: TARGET, dtype: int64"
            ]
          },
          "metadata": {},
          "execution_count": 16
        }
      ]
    },
    {
      "cell_type": "code",
      "metadata": {
        "id": "xQg58ZPdjkAk"
      },
      "source": [
        "#setting TARGET variable SMOTE\n",
        "X=data_oversampled.drop(\"TARGET\",axis=1)\n",
        "y=data_oversampled.TARGET"
      ],
      "execution_count": null,
      "outputs": []
    },
    {
      "cell_type": "code",
      "metadata": {
        "id": "ddAn9P6Od6e2",
        "colab": {
          "base_uri": "https://localhost:8080/"
        },
        "outputId": "92d537a0-9c6b-491a-c2c9-ed95a790e9a0"
      },
      "source": [
        "X_smote,y_smote=SMOTE().fit_sample(X,y)\n",
        "#shape of dataset after using SMOTE\n",
        "print(\"X\",X_smote.shape)\n",
        "print(\"y\",y_smote.shape)"
      ],
      "execution_count": null,
      "outputs": [
        {
          "output_type": "stream",
          "name": "stdout",
          "text": [
            "X (45914, 33)\n",
            "y (45914,)\n"
          ]
        }
      ]
    },
    {
      "cell_type": "code",
      "metadata": {
        "colab": {
          "base_uri": "https://localhost:8080/",
          "height": 265
        },
        "id": "gC_0quKukJJT",
        "outputId": "5cce8770-86e8-4cb8-b861-6743e99aa017"
      },
      "source": [
        "sns.countplot(y_smote)\n",
        "plt.show()"
      ],
      "execution_count": null,
      "outputs": [
        {
          "output_type": "display_data",
          "data": {
            "image/png": "[encoded data removed]",
            "text/plain": [
              "<Figure size 432x288 with 1 Axes>"
            ]
          },
          "metadata": {
            "needs_background": "light"
          }
        }
      ]
    },
    {
      "cell_type": "markdown",
      "metadata": {
        "id": "kVPllRkqz4lZ"
      },
      "source": [
        "### **Splitting the dataset into training and testing**"
      ]
    },
    {
      "cell_type": "code",
      "metadata": {
        "id": "UxoS9oZM7J80"
      },
      "source": [
        "X_train_over,X_test_over,y_train_over,y_test_over=train_test_split(X_smote,y_smote,test_size=0.25,random_state=99)"
      ],
      "execution_count": null,
      "outputs": []
    },
    {
      "cell_type": "code",
      "metadata": {
        "colab": {
          "base_uri": "https://localhost:8080/"
        },
        "id": "mBsF3HCqF_A-",
        "outputId": "b85dd5bb-63e1-41e6-824d-3c93d55feca5"
      },
      "source": [
        "print(\"X_train_over : \",X_train_over.shape,\"\\ny_train_over : \",y_train_over.shape)\n",
        "print(\"X_train_over : \",X_test_over.shape,\"\\ny_train_over : \",y_test_over.shape)"
      ],
      "execution_count": null,
      "outputs": [
        {
          "output_type": "stream",
          "name": "stdout",
          "text": [
            "X_train_over :  (34435, 33) \n",
            "y_train_over :  (34435,)\n",
            "X_train_over :  (11479, 33) \n",
            "y_train_over :  (11479,)\n"
          ]
        }
      ]
    },
    {
      "cell_type": "markdown",
      "metadata": {
        "id": "wdIUq7t80EtH"
      },
      "source": [
        "## **1.Decision Tree Algorithm Using Sklearn-Package**\n",
        "\n",
        "\n",
        "\n",
        "*   Gini index:\n",
        "\n",
        "  ![image.png](data:image/png;base64,iVBORw0KGgoAAAANSUhEUgAAAJMAAAASCAYAAABfCexoAAADfElEQVRoBe3YDZEUMRAF4EhAAhJwAA5AAg7AATgAB+AAHIADcAAOwAHUdzXvqi9k/mD32IPpqqlMkk53z+uXTnZbO+RA4PcQeN5ae9Rae9Ja+7hk4n5r7V5RqO9l+Hi9YASettY+tNZeLjyvJx16nq15pve5fDsyIdUN4fjtNGEy7HtftBDtVemvvXL8YiVQDOeXH3752CvWfZ2A27v2b+nDRtLPIWzDA2HWBHbIId9b5UFRtLb2Z41Jci1jEl/7xebwFTHorxEEkffYHTnLLhzNXdIYLCSux/bUMUrwj1HVGDhCPvHsFZvhBmEloZatapCTP01ytTf3/j+RKRjs3ZhZt6dF2m8bNjObyCffW4W+qkaui8X3leOhlmIAOLYitc8w3WvDU4DPurGsrW1PJoFmnXegaHupc6PKJCaPOAmwHk5P7GmNpT+pnr25DTL5CNeHTyf+GljJD9weB1/gKoVbz0sA0I/oI6OEseVxVmsJp6pekjkN/9KMyAQE40myClntKK8hOn/m6Uesz1p65uixIcZ8MzvVT9YvtdbaVEtPfM/ZEcdtVP3k5MZxNBfUhnH2YCv2PFcFxMQeMvFVyaTPYE3yWn8Ur2RaV8WYJ1L7/PVHc51Hnt4e0kdCciCEkJnb0vK/9tQKPbJpfR/jSO8UY75X3mz6s8ro1g8IyZEw8xXwSyCT2PoLYyVTYq8JN1ZFdflSB275fQuZUlHzbaN2a9i+t8ds69rNegKcA9Vcv3sugUyA6eMK0D58NN8DEnCt2yvKfP6fmWvXqsAWMu2Na07fCYRI2j2CzKPj2vgsMYHzZuAlZ2Od6snU34kkGVCRvp/x2o5IW8lBt/aBUu9m5sUaYozma3VFpAArvrXE11hP9X6bZJL4tWP3VN91ZUciOHVLd0PX98FJECXvwM9Y+i53ORrN174kpz8KmA1+Y5dPibfOePre02fHjrEWMejzwQZ9Ih5j5pGFfsboBVw2KxGn5WdtRt98LocwGFWX3p/NlQ1mDmbBstcN3v340f+HEZB0zxax6SKp1DbdnCzNza05xu8oAqqRqrQmqpG/OFToKsaXCLM0V+0c73ccAUe4H1VL/4OZezf9Q+4e3B+FqpPjeE4OMs0h84+NI5P7zp6nh0BVm7sz0T3I1CN29GcRmCNLKpgfLYccCCwi4K+epYt7fvmGVFfGfgK53+NEPWDSKQAAAABJRU5ErkJggg==)\n",
        "\n",
        "Gini Index is a metric to measure how often a randomly chosen element would be \n",
        "incorrectly identified.\n",
        "\n",
        "Sklearn supports “gini” criteria for Gini Index and by default, it takes “gini” value.\n",
        "\n"
      ]
    },
    {
      "cell_type": "code",
      "metadata": {
        "colab": {
          "base_uri": "https://localhost:8080/"
        },
        "id": "nAi3-8blOVLm",
        "outputId": "df73906f-851e-4a88-e4f8-ef16f4a44d3f"
      },
      "source": [
        "tree=DecisionTreeClassifier()\n",
        "tree.fit(X_train_over,y_train_over)"
      ],
      "execution_count": null,
      "outputs": [
        {
          "output_type": "execute_result",
          "data": {
            "text/plain": [
              "DecisionTreeClassifier(ccp_alpha=0.0, class_weight=None, criterion='gini',\n",
              "                       max_depth=None, max_features=None, max_leaf_nodes=None,\n",
              "                       min_impurity_decrease=0.0, min_impurity_split=None,\n",
              "                       min_samples_leaf=1, min_samples_split=2,\n",
              "                       min_weight_fraction_leaf=0.0, presort='deprecated',\n",
              "                       random_state=None, splitter='best')"
            ]
          },
          "metadata": {},
          "execution_count": 27
        }
      ]
    },
    {
      "cell_type": "markdown",
      "metadata": {
        "id": "07MKHTGI0V_q"
      },
      "source": [
        "### **Classification Metrics**"
      ]
    },
    {
      "cell_type": "code",
      "metadata": {
        "colab": {
          "base_uri": "https://localhost:8080/"
        },
        "id": "trXeILKoOYhe",
        "outputId": "2e1a8706-7cab-4264-afe4-80ac1d58de6b"
      },
      "source": [
        "pred_tree=tree.predict(X_test_over)\n",
        "print(metrics.classification_report(y_test_over,pred_tree))"
      ],
      "execution_count": null,
      "outputs": [
        {
          "output_type": "stream",
          "name": "stdout",
          "text": [
            "              precision    recall  f1-score   support\n",
            "\n",
            "           0       0.99      0.97      0.98      5705\n",
            "           1       0.97      0.99      0.98      5774\n",
            "\n",
            "    accuracy                           0.98     11479\n",
            "   macro avg       0.98      0.98      0.98     11479\n",
            "weighted avg       0.98      0.98      0.98     11479\n",
            "\n"
          ]
        }
      ]
    },
    {
      "cell_type": "markdown",
      "metadata": {
        "id": "6lv0eIrs1VnE"
      },
      "source": [
        "### **Confusion Matrix**"
      ]
    },
    {
      "cell_type": "code",
      "metadata": {
        "colab": {
          "base_uri": "https://localhost:8080/",
          "height": 350
        },
        "id": "hgLsHNzWOcfW",
        "outputId": "ea2d087a-e726-44fd-8967-40ea55789260"
      },
      "source": [
        "\n",
        "print(metrics.precision_score(pred_tree,y_test_over)*100)\n",
        "print(metrics.recall_score(pred_tree,y_test_over)*100)\n",
        "print(metrics.accuracy_score(pred_tree,y_test_over)*100)\n",
        "sns.heatmap(metrics.confusion_matrix(y_test_over,pred_tree),annot=True,cbar=False\n",
        "            ,cmap=\"Blues\",fmt=\"1\",linecolor=\"Black\",linewidth=0.3)\n",
        "plt.xlabel(\"PREDICTED_LABEL\",fontsize=12,color='r')\n",
        "plt.ylabel(\"ACTUAL_LBLE\",fontsize=12,color='r')\n",
        "plt.title(\"CONFUISON_MATRIX   :-\",fontsize=14,color=\"b\")\n",
        "plt.show()"
      ],
      "execution_count": null,
      "outputs": [
        {
          "output_type": "stream",
          "name": "stdout",
          "text": [
            "98.71839279528922\n",
            "97.25302849343116\n",
            "97.95278334349682\n"
          ]
        },
        {
          "output_type": "display_data",
          "data": {
            "image/png": "[encoded data removed]",
            "text/plain": [
              "<Figure size 432x288 with 1 Axes>"
            ]
          },
          "metadata": {
            "needs_background": "light"
          }
        }
      ]
    },
    {
      "cell_type": "markdown",
      "metadata": {
        "id": "BxC3ErnQa36Y"
      },
      "source": [
        "\n",
        "\n",
        "*  Entropy\n",
        "        \n",
        "        Entropy is the measure of uncertainty of a random variable, it characterizes the impurity of an arbitrary collection of examples. The higher the entropy the more the information content.\n",
        "\n",
        "        Sklearn supports “entropy” criteria for Information Gain and if we want to use Information Gain method in sklearn then we have to mention it explicitly\n",
        "\n"
      ]
    },
    {
      "cell_type": "code",
      "metadata": {
        "colab": {
          "base_uri": "https://localhost:8080/",
          "height": 512
        },
        "id": "z7wDob5NPTc1",
        "outputId": "661c2477-a453-422a-a89c-f28dcbba366d"
      },
      "source": [
        "clf_entropy = DecisionTreeClassifier(\n",
        "            criterion = \"entropy\", random_state = 100,\n",
        "            max_depth = 3, min_samples_leaf = 5)\n",
        "  \n",
        "    # Performing training\n",
        "clf_entropy.fit(X_train_over, y_train_over)\n",
        "entropy_pred_tree=clf_entropy.predict(X_test_over)\n",
        "print(metrics.classification_report(y_test_over,entropy_pred_tree))\n",
        "print(metrics.precision_score(entropy_pred_tree,y_test_over)*100)\n",
        "print(metrics.recall_score(entropy_pred_tree,y_test_over)*100)\n",
        "print(metrics.accuracy_score(entropy_pred_tree,y_test_over)*100)\n",
        "sns.heatmap(metrics.confusion_matrix(y_test_over,entropy_pred_tree),annot=True,cbar=False\n",
        "            ,cmap=\"Blues\",fmt=\"1\",linecolor=\"Black\",linewidth=0.3)\n",
        "plt.xlabel(\"PREDICTED_LABEL\",fontsize=12,color='r')\n",
        "plt.ylabel(\"ACTUAL_LBLE\",fontsize=12,color='r')\n",
        "plt.title(\"CONFUISON_MATRIX   :-\",fontsize=14,color=\"b\")\n",
        "plt.show()"
      ],
      "execution_count": null,
      "outputs": [
        {
          "output_type": "stream",
          "name": "stdout",
          "text": [
            "              precision    recall  f1-score   support\n",
            "\n",
            "           0       0.73      0.86      0.79      5705\n",
            "           1       0.83      0.68      0.75      5774\n",
            "\n",
            "    accuracy                           0.77     11479\n",
            "   macro avg       0.78      0.77      0.77     11479\n",
            "weighted avg       0.78      0.77      0.77     11479\n",
            "\n",
            "68.16764807758919\n",
            "82.77602523659307\n",
            "76.85338444115341\n"
          ]
        },
        {
          "output_type": "display_data",
          "data": {
            "image/png": "[encoded data removed]",
            "text/plain": [
              "<Figure size 432x288 with 1 Axes>"
            ]
          },
          "metadata": {
            "needs_background": "light"
          }
        }
      ]
    },
    {
      "cell_type": "markdown",
      "metadata": {
        "id": "k3kkRIoT1g8d"
      },
      "source": [
        "### **Evaluating Testing and Training Accuracy by plotting the graph Using Gini Index**"
      ]
    },
    {
      "cell_type": "code",
      "metadata": {
        "colab": {
          "base_uri": "https://localhost:8080/",
          "height": 605
        },
        "id": "PA7TRPytkPbR",
        "outputId": "2b23a7d7-b9d0-48a2-b3a3-5344ac03a9e2"
      },
      "source": [
        "# evaluate decision tree performance on train and test sets with different tree depths\n",
        "from sklearn.datasets import make_classification\n",
        "from sklearn.model_selection import train_test_split\n",
        "from sklearn.metrics import accuracy_score\n",
        "from sklearn.tree import DecisionTreeClassifier\n",
        "from matplotlib import pyplot\n",
        "# create dataset\n",
        "train_scores, test_scores = list(), list()\n",
        "# define the tree depths to evaluate\n",
        "values = [i for i in range(1, 21)]\n",
        "# evaluate a decision tree for each depth\n",
        "for i in values:\n",
        "\t# configure the model\n",
        "\tmodel = DecisionTreeClassifier(max_depth=i)\n",
        "\t# fit model on the training dataset\n",
        "\tmodel.fit(X_train_over, y_train_over)\n",
        "\t# evaluate on the train dataset\n",
        "\ttrain_yhat = model.predict(X_train_over)\n",
        "\ttrain_acc = accuracy_score(y_train_over, train_yhat)\n",
        "\ttrain_scores.append(train_acc)\n",
        "\t# evaluate on the test dataset\n",
        "\ttest_yhat = model.predict(X_test_over)\n",
        "\ttest_acc = accuracy_score(y_test_over, test_yhat)\n",
        "\ttest_scores.append(test_acc)\n",
        "\t# summarize progress\n",
        "\tprint('>%d, train: %.3f, test: %.3f, loss: %.3f' % (i, train_acc, test_acc,train_acc-test_acc))\n",
        "# plot of train and test scores vs tree depth\n",
        "pyplot.plot(values, train_scores, '-o', label='Train')\n",
        "pyplot.plot(values, test_scores, '-o', label='Test')\n",
        "pyplot.legend()\n",
        "pyplot.show()"
      ],
      "execution_count": null,
      "outputs": [
        {
          "output_type": "stream",
          "name": "stdout",
          "text": [
            ">1, train: 0.625, test: 0.619,loss: 0.006\n",
            ">2, train: 0.680, test: 0.675,loss: 0.005\n",
            ">3, train: 0.771, test: 0.770,loss: 0.001\n",
            ">4, train: 0.800, test: 0.796,loss: 0.004\n",
            ">5, train: 0.850, test: 0.847,loss: 0.004\n",
            ">6, train: 0.864, test: 0.858,loss: 0.006\n",
            ">7, train: 0.891, test: 0.883,loss: 0.008\n",
            ">8, train: 0.911, test: 0.902,loss: 0.009\n",
            ">9, train: 0.935, test: 0.926,loss: 0.009\n",
            ">10, train: 0.947, test: 0.933,loss: 0.014\n",
            ">11, train: 0.955, test: 0.942,loss: 0.013\n",
            ">12, train: 0.966, test: 0.952,loss: 0.014\n",
            ">13, train: 0.974, test: 0.961,loss: 0.013\n",
            ">14, train: 0.982, test: 0.968,loss: 0.014\n",
            ">15, train: 0.986, test: 0.971,loss: 0.015\n",
            ">16, train: 0.990, test: 0.972,loss: 0.018\n",
            ">17, train: 0.992, test: 0.974,loss: 0.018\n",
            ">18, train: 0.994, test: 0.976,loss: 0.018\n",
            ">19, train: 0.996, test: 0.978,loss: 0.018\n",
            ">20, train: 0.997, test: 0.978,loss: 0.018\n"
          ]
        },
        {
          "output_type": "display_data",
          "data": {
            "image/png": "[encoded data removed]",
            "text/plain": [
              "<Figure size 432x288 with 1 Axes>"
            ]
          },
          "metadata": {
            "needs_background": "light"
          }
        }
      ]
    },
    {
      "cell_type": "markdown",
      "metadata": {
        "id": "D52Tz1kJ2EMU"
      },
      "source": [
        "### **Finding the Optimal Value for max-depth**"
      ]
    },
    {
      "cell_type": "code",
      "metadata": {
        "colab": {
          "base_uri": "https://localhost:8080/",
          "height": 649
        },
        "id": "QXffqrpvEJWE",
        "outputId": "342d2257-f967-4a34-ab60-931a6ef427e2"
      },
      "source": [
        "from sklearn.model_selection import cross_val_score\n",
        "depth_list = list(range(1,50,1))\n",
        "# creating list of cv scores\n",
        "cv_scores = []\n",
        "\n",
        "# perform 10-fold cross validation\n",
        "for k in depth_list:\n",
        "    tree = DecisionTreeClassifier(max_depth=k)\n",
        "    scores = cross_val_score(tree, X_train_over, y_train_over, cv=10, scoring='accuracy')\n",
        "    cv_scores.append(scores.mean())\n",
        "# changing to misclassification error\n",
        "MSE = [1 - x for x in cv_scores]\n",
        "\n",
        "plt.figure()\n",
        "plt.figure(figsize=(15,10))\n",
        "plt.title('The optimal number of neighbors', fontsize=20, fontweight='bold')\n",
        "plt.xlabel('Number of Neighbors K', fontsize=15)\n",
        "plt.ylabel('Misclassification Error', fontsize=15)\n",
        "sns.set_style(\"whitegrid\")\n",
        "plt.plot(depth_list, MSE)\n",
        "\n",
        "plt.show()"
      ],
      "execution_count": null,
      "outputs": [
        {
          "output_type": "display_data",
          "data": {
            "text/plain": [
              "<Figure size 432x288 with 0 Axes>"
            ]
          },
          "metadata": {}
        },
        {
          "output_type": "display_data",
          "data": {
            "image/png": "[encoded data removed]",
            "text/plain": [
              "<Figure size 1080x720 with 1 Axes>"
            ]
          },
          "metadata": {
            "needs_background": "light"
          }
        }
      ]
    },
    {
      "cell_type": "code",
      "metadata": {
        "colab": {
          "base_uri": "https://localhost:8080/"
        },
        "id": "qqao_ScsFex7",
        "outputId": "dafcb524-8648-494e-ca77-e98950396e1f"
      },
      "source": [
        "best_depth = depth_list[MSE.index(min(MSE))]\n",
        "print(\"The optimal number of neighbors is %d.\" % best_depth)"
      ],
      "execution_count": null,
      "outputs": [
        {
          "output_type": "stream",
          "name": "stdout",
          "text": [
            "The optimal number of neighbors is 33.\n"
          ]
        }
      ]
    },
    {
      "cell_type": "markdown",
      "metadata": {
        "id": "5kF-RYyU2Yl6"
      },
      "source": [
        "## **2.Native Bayes Using Sklearn-Package**\n",
        "\n"
      ]
    },
    {
      "cell_type": "code",
      "metadata": {
        "colab": {
          "base_uri": "https://localhost:8080/"
        },
        "id": "5LsSVClqQLAY",
        "outputId": "1427e58f-dc4e-41db-b3d4-ba11fbe103cc"
      },
      "source": [
        "# load the iris dataset\n",
        "from sklearn.naive_bayes import GaussianNB\n",
        "gnb = GaussianNB()\n",
        "gnb.fit(X_train_over, y_train_over)\n",
        "\n",
        "# making predictions on the testing set\n",
        "y_pred = gnb.predict(X_test_over)\n",
        "\n",
        "# comparing actual response values (y_test) with predicted response values (y_pred)\n",
        "from sklearn import metrics\n",
        "print(\"Gaussian Naive Bayes model accuracy(in %):\", metrics.accuracy_score(y_test_over, y_pred)*100)\n"
      ],
      "execution_count": null,
      "outputs": [
        {
          "output_type": "stream",
          "name": "stdout",
          "text": [
            "Gaussian Naive Bayes model accuracy(in %): 65.09277811656068\n"
          ]
        }
      ]
    },
    {
      "cell_type": "markdown",
      "metadata": {
        "id": "WfA7owkjG9ap"
      },
      "source": [
        "### **Evaluating Native Bayes Using Confusion Matrix**"
      ]
    },
    {
      "cell_type": "code",
      "metadata": {
        "colab": {
          "base_uri": "https://localhost:8080/",
          "height": 503
        },
        "id": "DvPp13jMWG3H",
        "outputId": "ae89d40a-54e4-4251-b1c0-b62072933794"
      },
      "source": [
        "pred_=gnb.predict(X_test_over)\n",
        "print(metrics.classification_report(y_test_over,pred_))\n",
        "\n",
        "print(metrics.precision_score(pred_,y_test_over)*100)\n",
        "print(metrics.recall_score(pred_,y_test_over)*100)\n",
        "print(metrics.accuracy_score(pred_,y_test_over)*100)\n",
        "sns.heatmap(metrics.confusion_matrix(y_test_over,pred_),annot=True,cbar=False\n",
        "            ,cmap=\"Blues\",fmt=\"1\",linecolor=\"Black\",linewidth=0.3)\n",
        "plt.xlabel(\"PREDICTED_LABEL\",fontsize=12,color='r')\n",
        "plt.ylabel(\"ACTUAL_LBLE\",fontsize=12,color='r')\n",
        "plt.title(\"CONFUISON_MATRIX   :-\",fontsize=14,color=\"b\")\n",
        "plt.show()\n"
      ],
      "execution_count": null,
      "outputs": [
        {
          "output_type": "stream",
          "name": "stdout",
          "text": [
            "              precision    recall  f1-score   support\n",
            "\n",
            "           0       0.69      0.55      0.61      5705\n",
            "           1       0.63      0.75      0.68      5774\n",
            "\n",
            "    accuracy                           0.65     11479\n",
            "   macro avg       0.66      0.65      0.65     11479\n",
            "weighted avg       0.66      0.65      0.65     11479\n",
            "\n",
            "74.97402147558019\n",
            "62.821070962124516\n",
            "65.09277811656068\n"
          ]
        },
        {
          "output_type": "display_data",
          "data": {
            "image/png": "[encoded data removed]",
            "text/plain": [
              "<Figure size 432x288 with 1 Axes>"
            ]
          },
          "metadata": {
            "needs_background": "light"
          }
        }
      ]
    },
    {
      "cell_type": "code",
      "metadata": {
        "colab": {
          "base_uri": "https://localhost:8080/"
        },
        "id": "n5KFMtHXW1Ij",
        "outputId": "2a25310e-331f-40fc-c277-e4eb9d2d707a"
      },
      "source": [
        "y_pred_train = gnb.predict(X_train_over)\n",
        "\n",
        "y_pred_train\n",
        "print('Training-set accuracy score: {0:0.4f}'. format(accuracy_score(y_train_over, y_pred_train)))\n",
        "print('Training set score: {:.4f}'.format(gnb.score(X_train_over, y_train_over)))\n",
        "\n",
        "print('Test set score: {:.4f}'.format(gnb.score(X_test_over, y_test_over)))"
      ],
      "execution_count": null,
      "outputs": [
        {
          "output_type": "stream",
          "name": "stdout",
          "text": [
            "Training-set accuracy score: 0.6518\n",
            "Training set score: 0.6518\n",
            "Test set score: 0.6509\n"
          ]
        }
      ]
    },
    {
      "cell_type": "markdown",
      "metadata": {
        "id": "Ge2hyOrEH2PK"
      },
      "source": [
        "## **3.Implementing KNN Algorithm From Scratch**"
      ]
    },
    {
      "cell_type": "code",
      "metadata": {
        "colab": {
          "base_uri": "https://localhost:8080/"
        },
        "id": "XuQoG_3h7OrF",
        "outputId": "3b56e114-e140-466c-f766-907eafd7220c"
      },
      "source": [
        "# Importing libraries\n",
        "\n",
        "import pandas as pd\n",
        "\n",
        "import numpy as np\n",
        "\n",
        "from sklearn.model_selection import train_test_split\n",
        "\n",
        "from scipy.stats import mode\n",
        "\n",
        "from sklearn.neighbors import KNeighborsClassifier\n",
        "\n",
        "# K Nearest Neighbors Classification\n",
        "\n",
        "class K_Nearest_Neighbors_Classifier() :\n",
        "\t\n",
        "\tdef __init__( self, K ) :\n",
        "\t\t\n",
        "\t\tself.K = K\n",
        "\t\t\n",
        "\t# Function to store training set\n",
        "\t\t\n",
        "\tdef fit( self, X_train, Y_train ) :\n",
        "\t\t\n",
        "\t\tself.X_train = X_train\n",
        "\t\t\n",
        "\t\tself.Y_train = Y_train\n",
        "\t\t\n",
        "\t\t# no_of_training_examples, no_of_features\n",
        "\t\t\n",
        "\t\tself.m, self.n = X_train.shape\n",
        "\t\n",
        "\t# Function for prediction\n",
        "\t\t\n",
        "\tdef predict( self, X_test ) :\n",
        "\t\t\n",
        "\t\tself.X_test = X_test\n",
        "\t\t\n",
        "\t\t# no_of_test_examples, no_of_features\n",
        "\t\t\n",
        "\t\tself.m_test, self.n = X_test.shape\n",
        "\t\t\n",
        "\t\t# initialize Y_predict\n",
        "\t\t\n",
        "\t\tY_predict = np.zeros( self.m_test )\n",
        "\t\t\n",
        "\t\tfor i in range( self.m_test ) :\n",
        "\t\t\t\n",
        "\t\t\tx = self.X_test[i]\n",
        "\t\t\t\n",
        "\t\t\t# find the K nearest neighbors from current test example\n",
        "\t\t\t\n",
        "\t\t\tneighbors = np.zeros( self.K )\n",
        "\t\t\t\n",
        "\t\t\tneighbors = self.find_neighbors( x )\n",
        "\t\t\t\n",
        "\t\t\t# most frequent class in K neighbors\n",
        "\t\t\t\n",
        "\t\t\tY_predict[i] = mode( neighbors )[0][0]\t\n",
        "\t\t\t\n",
        "\t\treturn Y_predict\n",
        "\t\n",
        "\t# Function to find the K nearest neighbors to current test example\n",
        "\t\t\t\n",
        "\tdef find_neighbors( self, x ) :\n",
        "\t\t\n",
        "\t\t# calculate all the euclidean distances between current\n",
        "\t\t# test example x and training set X_train\n",
        "\t\t\n",
        "\t\teuclidean_distances = np.zeros( self.m )\n",
        "\t\t\n",
        "\t\tfor i in range( self.m ) :\n",
        "\t\t\t\n",
        "\t\t\td = self.euclidean( x, self.X_train[i] )\n",
        "\t\t\t\n",
        "\t\t\teuclidean_distances[i] = d\n",
        "\t\t\n",
        "\t\t# sort Y_train according to euclidean_distance_array and\n",
        "\t\t# store into Y_train_sorted\n",
        "\t\t\n",
        "\t\tinds = euclidean_distances.argsort()\n",
        "\t\t\n",
        "\t\tY_train_sorted = self.Y_train[inds]\n",
        "\t\t\n",
        "\t\treturn Y_train_sorted[:self.K]\n",
        "\t\n",
        "\t# Function to calculate euclidean distance\n",
        "\t\t\t\n",
        "\tdef euclidean( self, x, x_train ) :\n",
        "\t\t\n",
        "\t\treturn np.sqrt( np.sum( np.square( x - x_train ) ) )\n",
        "\n",
        "# Driver code\n",
        "\n",
        "def main() :\n",
        "\t\n",
        "\t# Importing dataset\n",
        "\t\n",
        "\t\n",
        "\t\n",
        "\t# Splitting dataset into train and test set\n",
        "\t\n",
        "\t# Model training\n",
        "\t\n",
        "\tmodel = K_Nearest_Neighbors_Classifier( K = 3 )\n",
        "\t\n",
        "\tmodel.fit( X_train_over, y_train_over )\n",
        "\t\n",
        "\tmodel1 = KNeighborsClassifier( n_neighbors = 3 )\n",
        "\t\n",
        "\tmodel1.fit( X_train_over, y_train_over )\n",
        "\t\n",
        "\t# Prediction on test set\n",
        "\n",
        "\tY_pred = model.predict( X_test_over )\n",
        "\t\n",
        "\tY_pred1 = model1.predict( X_test_over )\n",
        "\t\n",
        "\t# measure performance\n",
        "\t\n",
        "\tcorrectly_classified = 0\n",
        "\t\n",
        "\tcorrectly_classified1 = 0\n",
        "\t\n",
        "\t# counter\n",
        "\t\n",
        "\tcount = 0\n",
        "\t\n",
        "\tfor count in range( np.size( Y_pred ) ) :\n",
        "\t\t\n",
        "\t\tif y_test_over[count] == Y_pred[count] :\n",
        "\t\t\t\n",
        "\t\t\tcorrectly_classified = correctly_classified + 1\n",
        "\t\t\n",
        "\t\tif y_test_over[count] == Y_pred1[count] :\n",
        "\t\t\t\n",
        "\t\t\tcorrectly_classified1 = correctly_classified1 + 1\n",
        "\t\t\t\n",
        "\t\tcount = count + 1\n",
        "\t\t\n",
        "\tprint( \"Accuracy on test set by our model\t : \", (\n",
        "\tcorrectly_classified / count ) * 100 )\n",
        "\tprint( \"Accuracy on test set by sklearn model : \", (\n",
        "\tcorrectly_classified1 / count ) * 100 )\n",
        "\t\n",
        "\t\n",
        "if __name__ == \"__main__\" :\n",
        "\t\n",
        "\tmain()\n"
      ],
      "execution_count": null,
      "outputs": [
        {
          "output_type": "stream",
          "name": "stdout",
          "text": [
            "Accuracy on test set by our model\t :  94.08485059674187\n",
            "Accuracy on test set by sklearn model :  94.08485059674187\n"
          ]
        }
      ]
    },
    {
      "cell_type": "markdown",
      "metadata": {
        "id": "thryYwNQIJ6y"
      },
      "source": [
        "### **Evaluating KNN Performance On Train And Test Sets With Different Numbers Of Neighbors**"
      ]
    },
    {
      "cell_type": "code",
      "metadata": {
        "colab": {
          "base_uri": "https://localhost:8080/",
          "height": 1000
        },
        "id": "8EURMrBen_vN",
        "outputId": "5d8172eb-33c1-4269-d1d2-ff1394e69b26"
      },
      "source": [
        "# evaluate knn performance on train and test sets with different numbers of neighbors\n",
        "from sklearn.model_selection import train_test_split\n",
        "from sklearn.metrics import accuracy_score\n",
        "from sklearn.neighbors import KNeighborsClassifier\n",
        "from matplotlib import pyplot\n",
        "\n",
        "# define lists to collect scores\n",
        "train_scores, test_scores = list(), list()\n",
        "# define the tree depths to evaluate\n",
        "values = [i for i in range(1, 51)]\n",
        "# evaluate a decision tree for each depth\n",
        "for i in values:\n",
        "\t# configure the model\n",
        "\tmodel = KNeighborsClassifier(n_neighbors=i)\n",
        "\t# fit model on the training dataset\n",
        "\tmodel.fit(X_train_over, y_train_over)\n",
        "\t# evaluate on the train dataset\n",
        "\ttrain_yhat = model.predict(X_train_over)\n",
        "\ttrain_acc = accuracy_score(y_train_over, train_yhat)\n",
        "\ttrain_scores.append(train_acc)\n",
        "\t# evaluate on the test dataset\n",
        "\ttest_yhat = model.predict(X_test_over)\n",
        "\ttest_acc = accuracy_score(y_test_over, test_yhat)\n",
        "\ttest_scores.append(test_acc)\n",
        "\t# summarize progress\n",
        "\tprint('>%d, train: %.3f, test: %.3f' % (i, train_acc, test_acc))\n",
        "# plot of train and test scores vs number of neighbors\n",
        "pyplot.plot(values, train_scores, '-o', label='Train')\n",
        "pyplot.plot(values, test_scores, '-o', label='Test')\n",
        "pyplot.legend()\n",
        "pyplot.show()"
      ],
      "execution_count": null,
      "outputs": [
        {
          "output_type": "stream",
          "name": "stdout",
          "text": [
            ">1, train: 0.999, test: 0.966\n",
            ">2, train: 0.998, test: 0.968\n",
            ">3, train: 0.969, test: 0.941\n",
            ">4, train: 0.972, test: 0.945\n",
            ">5, train: 0.945, test: 0.920\n",
            ">6, train: 0.949, test: 0.925\n",
            ">7, train: 0.927, test: 0.905\n",
            ">8, train: 0.932, test: 0.911\n",
            ">9, train: 0.912, test: 0.892\n",
            ">10, train: 0.917, test: 0.899\n",
            ">11, train: 0.897, test: 0.881\n",
            ">12, train: 0.903, test: 0.887\n",
            ">13, train: 0.885, test: 0.874\n",
            ">14, train: 0.891, test: 0.878\n",
            ">15, train: 0.876, test: 0.865\n",
            ">16, train: 0.882, test: 0.872\n",
            ">17, train: 0.868, test: 0.859\n",
            ">18, train: 0.872, test: 0.864\n",
            ">19, train: 0.861, test: 0.854\n",
            ">20, train: 0.865, test: 0.860\n",
            ">21, train: 0.853, test: 0.848\n",
            ">22, train: 0.856, test: 0.852\n",
            ">23, train: 0.846, test: 0.841\n",
            ">24, train: 0.850, test: 0.847\n",
            ">25, train: 0.841, test: 0.837\n",
            ">26, train: 0.844, test: 0.842\n",
            ">27, train: 0.835, test: 0.832\n",
            ">28, train: 0.839, test: 0.836\n",
            ">29, train: 0.830, test: 0.825\n",
            ">30, train: 0.833, test: 0.829\n",
            ">31, train: 0.824, test: 0.822\n",
            ">32, train: 0.829, test: 0.825\n",
            ">33, train: 0.820, test: 0.816\n",
            ">34, train: 0.823, test: 0.820\n",
            ">35, train: 0.816, test: 0.812\n",
            ">36, train: 0.819, test: 0.816\n",
            ">37, train: 0.811, test: 0.810\n",
            ">38, train: 0.815, test: 0.814\n",
            ">39, train: 0.808, test: 0.806\n",
            ">40, train: 0.812, test: 0.810\n",
            ">41, train: 0.805, test: 0.804\n",
            ">42, train: 0.808, test: 0.807\n",
            ">43, train: 0.802, test: 0.801\n",
            ">44, train: 0.805, test: 0.804\n",
            ">45, train: 0.799, test: 0.798\n",
            ">46, train: 0.802, test: 0.801\n",
            ">47, train: 0.796, test: 0.794\n",
            ">48, train: 0.799, test: 0.798\n",
            ">49, train: 0.793, test: 0.791\n",
            ">50, train: 0.797, test: 0.795\n"
          ]
        },
        {
          "output_type": "display_data",
          "data": {
            "image/png": "[encoded data removed]",
            "text/plain": [
              "<Figure size 432x288 with 1 Axes>"
            ]
          },
          "metadata": {
            "needs_background": "light"
          }
        }
      ]
    },
    {
      "cell_type": "markdown",
      "metadata": {
        "id": "Ry5oX4vHIok-"
      },
      "source": [
        "### **Finding The Optimal Value For K-Neighbor**"
      ]
    },
    {
      "cell_type": "code",
      "metadata": {
        "colab": {
          "base_uri": "https://localhost:8080/",
          "height": 650
        },
        "id": "wMuSBvBsy-Of",
        "outputId": "b5b411b6-0676-4157-e681-81550bf6b08b"
      },
      "source": [
        "from sklearn.model_selection import cross_val_score\n",
        "k_list = list(range(1,50,1))\n",
        "# creating list of cv scores\n",
        "cv_scores = []\n",
        "\n",
        "# perform 10-fold cross validation\n",
        "for k in k_list:\n",
        "    knn = KNeighborsClassifier(n_neighbors=k)\n",
        "    scores = cross_val_score(knn, X_train_over, y_train_over, cv=10, scoring='accuracy')\n",
        "    cv_scores.append(scores.mean())\n",
        "# changing to misclassification error\n",
        "MSE = [1 - x for x in cv_scores]\n",
        "\n",
        "plt.figure()\n",
        "plt.figure(figsize=(15,10))\n",
        "plt.title('The optimal number of neighbors', fontsize=20, fontweight='bold')\n",
        "plt.xlabel('Number of Neighbors K', fontsize=15)\n",
        "plt.ylabel('Misclassification Error', fontsize=15)\n",
        "sns.set_style(\"whitegrid\")\n",
        "plt.plot(k_list, MSE)\n",
        "\n",
        "plt.show()"
      ],
      "execution_count": null,
      "outputs": [
        {
          "output_type": "display_data",
          "data": {
            "text/plain": [
              "<Figure size 432x288 with 0 Axes>"
            ]
          },
          "metadata": {}
        },
        {
          "output_type": "display_data",
          "data": {
            "image/png": "[encoded data removed]",
            "text/plain": [
              "<Figure size 1080x720 with 1 Axes>"
            ]
          },
          "metadata": {
            "needs_background": "light"
          }
        }
      ]
    },
    {
      "cell_type": "code",
      "metadata": {
        "colab": {
          "base_uri": "https://localhost:8080/"
        },
        "id": "tQ4xWOzP9vr2",
        "outputId": "d9e34472-c2c4-4530-8685-f2cc7216b890"
      },
      "source": [
        "best_k = k_list[MSE.index(min(MSE))]\n",
        "print(\"The optimal number of neighbors is %d.\" % best_k)"
      ],
      "execution_count": null,
      "outputs": [
        {
          "output_type": "stream",
          "name": "stdout",
          "text": [
            "The optimal number of neighbors is 2.\n"
          ]
        }
      ]
    },
    {
      "cell_type": "markdown",
      "metadata": {
        "id": "CN1AzfviI86X"
      },
      "source": [
        "### **Implementing KNN algorithm Uisng Sklearn-Package with optimal value of K-neighbor**"
      ]
    },
    {
      "cell_type": "code",
      "metadata": {
        "colab": {
          "base_uri": "https://localhost:8080/"
        },
        "id": "8NiOcYAwSSfE",
        "outputId": "9872f198-70a4-4c7e-aa72-8881ec056a4e"
      },
      "source": [
        "from sklearn.neighbors import KNeighborsClassifier\n",
        "neigh = KNeighborsClassifier(n_neighbors=2)\n",
        "neigh.fit(X_train_over, y_train_over)\n",
        "neigh.score(X_test_over, y_test_over)\n",
        "y_pred = neigh.predict(X_test_over)\n",
        "print('Accuracy', accuracy_score(y_test_over, y_pred))"
      ],
      "execution_count": null,
      "outputs": [
        {
          "output_type": "stream",
          "name": "stdout",
          "text": [
            "Accuracy 0.9489502569910271\n"
          ]
        }
      ]
    },
    {
      "cell_type": "markdown",
      "metadata": {
        "id": "wBdLHerxJcj4"
      },
      "source": [
        "### **Confusion Matrix**"
      ]
    },
    {
      "cell_type": "code",
      "metadata": {
        "colab": {
          "base_uri": "https://localhost:8080/",
          "height": 503
        },
        "id": "-KDB3nS_T85K",
        "outputId": "bd7b52f3-c819-4b2b-b90a-5b9eace2fe6d"
      },
      "source": [
        "pred_neigh=neigh.predict(X_test_over)\n",
        "print(metrics.classification_report(y_test_over,pred_neigh))\n",
        "print(metrics.precision_score(pred_neigh,y_test_over)*100)\n",
        "print(metrics.recall_score(pred_neigh,y_test_over)*100)\n",
        "print(metrics.accuracy_score(pred_neigh,y_test_over)*100)\n",
        "sns.heatmap(metrics.confusion_matrix(y_test_over,pred_neigh),annot=True,cbar=False\n",
        "            ,cmap=\"Blues\",fmt=\"1\",linecolor=\"Black\",linewidth=0.3)\n",
        "plt.xlabel(\"PREDICTED_LABEL\",fontsize=12,color='r')\n",
        "plt.ylabel(\"ACTUAL_LBLE\",fontsize=12,color='r')\n",
        "plt.title(\"CONFUISON_MATRIX   :-\",fontsize=14,color=\"b\")\n",
        "plt.show()"
      ],
      "execution_count": null,
      "outputs": [
        {
          "output_type": "stream",
          "name": "stdout",
          "text": [
            "              precision    recall  f1-score   support\n",
            "\n",
            "           0       0.96      0.93      0.95      5705\n",
            "           1       0.93      0.97      0.95      5774\n",
            "\n",
            "    accuracy                           0.95     11479\n",
            "   macro avg       0.95      0.95      0.95     11479\n",
            "weighted avg       0.95      0.95      0.95     11479\n",
            "\n",
            "96.57083477658469\n",
            "93.49429912810194\n",
            "94.8950256991027\n"
          ]
        },
        {
          "output_type": "display_data",
          "data": {
            "image/png": "[encoded data removed]",
            "text/plain": [
              "<Figure size 432x288 with 1 Axes>"
            ]
          },
          "metadata": {}
        }
      ]
    },
    {
      "cell_type": "markdown",
      "metadata": {
        "id": "vVseFPGIEpCF"
      },
      "source": [
        "### **USING UNDER-SAMPLING METHOD**"
      ]
    },
    {
      "cell_type": "code",
      "metadata": {
        "id": "t-U18gej8fhC"
      },
      "source": [
        "data_undersampled=data.copy()"
      ],
      "execution_count": null,
      "outputs": []
    },
    {
      "cell_type": "code",
      "metadata": {
        "colab": {
          "base_uri": "https://localhost:8080/"
        },
        "id": "pml2GTDy8iBj",
        "outputId": "788cf86b-dd96-42f2-ceb4-366067ea0e2d"
      },
      "source": [
        "#target class count bofer under_sampling\n",
        "data_undersampled.TARGET.value_counts()"
      ],
      "execution_count": null,
      "outputs": [
        {
          "output_type": "execute_result",
          "data": {
            "text/plain": [
              "0    22957\n",
              "1      404\n",
              "Name: TARGET, dtype: int64"
            ]
          },
          "metadata": {},
          "execution_count": 36
        }
      ]
    },
    {
      "cell_type": "code",
      "metadata": {
        "id": "saDVMSKY8pzs"
      },
      "source": [
        "#splitting the whole data set into to parts for under_sampling method-\n",
        "data_majority_undersampled=data_undersampled[data_undersampled[\"TARGET\"] == 0]\n",
        "data_minority_undersampled=data_undersampled[data_undersampled[\"TARGET\"] == 1]"
      ],
      "execution_count": null,
      "outputs": []
    },
    {
      "cell_type": "code",
      "metadata": {
        "id": "wsQ9_qtP8vVy"
      },
      "source": [
        "#here we will be keeing the majority class double the size of minority class to prevent the model from underfitting\n",
        "data_under_sampled=resample(data_majority_undersampled,n_samples=844,replace=True,random_state=42)"
      ],
      "execution_count": null,
      "outputs": []
    },
    {
      "cell_type": "code",
      "metadata": {
        "colab": {
          "base_uri": "https://localhost:8080/"
        },
        "id": "cPx5DkJA80xY",
        "outputId": "564fb3e7-b0be-4dcb-c784-6388530e8aa8"
      },
      "source": [
        "print(data_under_sampled.shape)"
      ],
      "execution_count": null,
      "outputs": [
        {
          "output_type": "stream",
          "name": "stdout",
          "text": [
            "(844, 34)\n"
          ]
        }
      ]
    },
    {
      "cell_type": "code",
      "metadata": {
        "colab": {
          "base_uri": "https://localhost:8080/",
          "height": 238
        },
        "id": "JL32jpJw88e6",
        "outputId": "9a65b261-2563-4dff-d5c5-36a8392c20ec"
      },
      "source": [
        "data_under=pd.concat([data_under_sampled,data_minority_undersampled])\n",
        "data_under.head()"
      ],
      "execution_count": null,
      "outputs": [
        {
          "output_type": "execute_result",
          "data": {
            "text/html": [
              "<div>\n",
              "<style scoped>\n",
              "    .dataframe tbody tr th:only-of-type {\n",
              "        vertical-align: middle;\n",
              "    }\n",
              "\n",
              "    .dataframe tbody tr th {\n",
              "        vertical-align: top;\n",
              "    }\n",
              "\n",
              "    .dataframe thead th {\n",
              "        text-align: right;\n",
              "    }\n",
              "</style>\n",
              "<table border=\"1\" class=\"dataframe\">\n",
              "  <thead>\n",
              "    <tr style=\"text-align: right;\">\n",
              "      <th></th>\n",
              "      <th>BEGIN_MONTH</th>\n",
              "      <th>AGE</th>\n",
              "      <th>INCOME</th>\n",
              "      <th>YEARS_EMPLOYED</th>\n",
              "      <th>TARGET</th>\n",
              "      <th>HOUSE_TYPE_1</th>\n",
              "      <th>HOUSE_TYPE_2</th>\n",
              "      <th>HOUSE_TYPE_3</th>\n",
              "      <th>HOUSE_TYPE_4</th>\n",
              "      <th>HOUSE_TYPE_5</th>\n",
              "      <th>EDUCATION_TYPE_1</th>\n",
              "      <th>EDUCATION_TYPE_2</th>\n",
              "      <th>EDUCATION_TYPE_3</th>\n",
              "      <th>EDUCATION_TYPE_4</th>\n",
              "      <th>FAMILY SIZE_2</th>\n",
              "      <th>FAMILY SIZE_3</th>\n",
              "      <th>FAMILY SIZE_4</th>\n",
              "      <th>FAMILY SIZE_5</th>\n",
              "      <th>FAMILY SIZE_6</th>\n",
              "      <th>FAMILY SIZE_7</th>\n",
              "      <th>FAMILY SIZE_9</th>\n",
              "      <th>FAMILY SIZE_15</th>\n",
              "      <th>FAMILY SIZE_20</th>\n",
              "      <th>GENDER_1</th>\n",
              "      <th>WORK_PHONE_1</th>\n",
              "      <th>FAMILY_TYPE_1</th>\n",
              "      <th>FAMILY_TYPE_2</th>\n",
              "      <th>FAMILY_TYPE_3</th>\n",
              "      <th>FAMILY_TYPE_4</th>\n",
              "      <th>PHONE_1</th>\n",
              "      <th>INCOME_TYPE_1</th>\n",
              "      <th>INCOME_TYPE_2</th>\n",
              "      <th>INCOME_TYPE_3</th>\n",
              "      <th>INCOME_TYPE_4</th>\n",
              "    </tr>\n",
              "  </thead>\n",
              "  <tbody>\n",
              "    <tr>\n",
              "      <th>17148</th>\n",
              "      <td>47</td>\n",
              "      <td>48</td>\n",
              "      <td>90000</td>\n",
              "      <td>1</td>\n",
              "      <td>0</td>\n",
              "      <td>1</td>\n",
              "      <td>0</td>\n",
              "      <td>0</td>\n",
              "      <td>0</td>\n",
              "      <td>0</td>\n",
              "      <td>0</td>\n",
              "      <td>0</td>\n",
              "      <td>0</td>\n",
              "      <td>1</td>\n",
              "      <td>1</td>\n",
              "      <td>0</td>\n",
              "      <td>0</td>\n",
              "      <td>0</td>\n",
              "      <td>0</td>\n",
              "      <td>0</td>\n",
              "      <td>0</td>\n",
              "      <td>0</td>\n",
              "      <td>0</td>\n",
              "      <td>0</td>\n",
              "      <td>0</td>\n",
              "      <td>1</td>\n",
              "      <td>0</td>\n",
              "      <td>0</td>\n",
              "      <td>0</td>\n",
              "      <td>0</td>\n",
              "      <td>0</td>\n",
              "      <td>0</td>\n",
              "      <td>0</td>\n",
              "      <td>1</td>\n",
              "    </tr>\n",
              "    <tr>\n",
              "      <th>946</th>\n",
              "      <td>34</td>\n",
              "      <td>51</td>\n",
              "      <td>450000</td>\n",
              "      <td>7</td>\n",
              "      <td>0</td>\n",
              "      <td>0</td>\n",
              "      <td>0</td>\n",
              "      <td>1</td>\n",
              "      <td>0</td>\n",
              "      <td>0</td>\n",
              "      <td>1</td>\n",
              "      <td>0</td>\n",
              "      <td>0</td>\n",
              "      <td>0</td>\n",
              "      <td>0</td>\n",
              "      <td>1</td>\n",
              "      <td>0</td>\n",
              "      <td>0</td>\n",
              "      <td>0</td>\n",
              "      <td>0</td>\n",
              "      <td>0</td>\n",
              "      <td>0</td>\n",
              "      <td>0</td>\n",
              "      <td>1</td>\n",
              "      <td>0</td>\n",
              "      <td>1</td>\n",
              "      <td>0</td>\n",
              "      <td>0</td>\n",
              "      <td>0</td>\n",
              "      <td>0</td>\n",
              "      <td>0</td>\n",
              "      <td>0</td>\n",
              "      <td>0</td>\n",
              "      <td>1</td>\n",
              "    </tr>\n",
              "    <tr>\n",
              "      <th>5859</th>\n",
              "      <td>10</td>\n",
              "      <td>41</td>\n",
              "      <td>225000</td>\n",
              "      <td>8</td>\n",
              "      <td>0</td>\n",
              "      <td>1</td>\n",
              "      <td>0</td>\n",
              "      <td>0</td>\n",
              "      <td>0</td>\n",
              "      <td>0</td>\n",
              "      <td>0</td>\n",
              "      <td>0</td>\n",
              "      <td>0</td>\n",
              "      <td>1</td>\n",
              "      <td>0</td>\n",
              "      <td>0</td>\n",
              "      <td>1</td>\n",
              "      <td>0</td>\n",
              "      <td>0</td>\n",
              "      <td>0</td>\n",
              "      <td>0</td>\n",
              "      <td>0</td>\n",
              "      <td>0</td>\n",
              "      <td>1</td>\n",
              "      <td>0</td>\n",
              "      <td>1</td>\n",
              "      <td>0</td>\n",
              "      <td>0</td>\n",
              "      <td>0</td>\n",
              "      <td>0</td>\n",
              "      <td>0</td>\n",
              "      <td>0</td>\n",
              "      <td>0</td>\n",
              "      <td>0</td>\n",
              "    </tr>\n",
              "    <tr>\n",
              "      <th>23404</th>\n",
              "      <td>52</td>\n",
              "      <td>48</td>\n",
              "      <td>225000</td>\n",
              "      <td>7</td>\n",
              "      <td>0</td>\n",
              "      <td>1</td>\n",
              "      <td>0</td>\n",
              "      <td>0</td>\n",
              "      <td>0</td>\n",
              "      <td>0</td>\n",
              "      <td>0</td>\n",
              "      <td>0</td>\n",
              "      <td>0</td>\n",
              "      <td>1</td>\n",
              "      <td>0</td>\n",
              "      <td>0</td>\n",
              "      <td>0</td>\n",
              "      <td>0</td>\n",
              "      <td>0</td>\n",
              "      <td>0</td>\n",
              "      <td>0</td>\n",
              "      <td>0</td>\n",
              "      <td>0</td>\n",
              "      <td>1</td>\n",
              "      <td>0</td>\n",
              "      <td>0</td>\n",
              "      <td>0</td>\n",
              "      <td>1</td>\n",
              "      <td>0</td>\n",
              "      <td>0</td>\n",
              "      <td>0</td>\n",
              "      <td>0</td>\n",
              "      <td>0</td>\n",
              "      <td>0</td>\n",
              "    </tr>\n",
              "    <tr>\n",
              "      <th>13051</th>\n",
              "      <td>4</td>\n",
              "      <td>53</td>\n",
              "      <td>90000</td>\n",
              "      <td>4</td>\n",
              "      <td>0</td>\n",
              "      <td>1</td>\n",
              "      <td>0</td>\n",
              "      <td>0</td>\n",
              "      <td>0</td>\n",
              "      <td>0</td>\n",
              "      <td>0</td>\n",
              "      <td>0</td>\n",
              "      <td>0</td>\n",
              "      <td>1</td>\n",
              "      <td>1</td>\n",
              "      <td>0</td>\n",
              "      <td>0</td>\n",
              "      <td>0</td>\n",
              "      <td>0</td>\n",
              "      <td>0</td>\n",
              "      <td>0</td>\n",
              "      <td>0</td>\n",
              "      <td>0</td>\n",
              "      <td>0</td>\n",
              "      <td>0</td>\n",
              "      <td>1</td>\n",
              "      <td>0</td>\n",
              "      <td>0</td>\n",
              "      <td>0</td>\n",
              "      <td>0</td>\n",
              "      <td>0</td>\n",
              "      <td>0</td>\n",
              "      <td>0</td>\n",
              "      <td>0</td>\n",
              "    </tr>\n",
              "  </tbody>\n",
              "</table>\n",
              "</div>"
            ],
            "text/plain": [
              "       BEGIN_MONTH  AGE  INCOME  ...  INCOME_TYPE_2  INCOME_TYPE_3  INCOME_TYPE_4\n",
              "17148           47   48   90000  ...              0              0              1\n",
              "946             34   51  450000  ...              0              0              1\n",
              "5859            10   41  225000  ...              0              0              0\n",
              "23404           52   48  225000  ...              0              0              0\n",
              "13051            4   53   90000  ...              0              0              0\n",
              "\n",
              "[5 rows x 34 columns]"
            ]
          },
          "metadata": {},
          "execution_count": 40
        }
      ]
    },
    {
      "cell_type": "code",
      "metadata": {
        "colab": {
          "base_uri": "https://localhost:8080/"
        },
        "id": "8_FWIWR79E9Q",
        "outputId": "c69f0e55-e030-47b2-a318-5af192292791"
      },
      "source": [
        "#target column of sampled data\n",
        "print(data_under.TARGET.value_counts())"
      ],
      "execution_count": null,
      "outputs": [
        {
          "output_type": "stream",
          "name": "stdout",
          "text": [
            "0    844\n",
            "1    404\n",
            "Name: TARGET, dtype: int64\n"
          ]
        }
      ]
    },
    {
      "cell_type": "markdown",
      "metadata": {
        "id": "E_iOz0FDE9j2"
      },
      "source": [
        "### **SPLITTING THE DATASET INTO TRAINING AND TESTING**"
      ]
    },
    {
      "cell_type": "code",
      "metadata": {
        "colab": {
          "base_uri": "https://localhost:8080/"
        },
        "id": "cCw3SznF9NST",
        "outputId": "1506a4e3-d00f-4ec4-ce55-fc8c6e1af2a4"
      },
      "source": [
        "X_under=data_under.drop(\"TARGET\",axis=1)\n",
        "y_under=data_under.TARGET\n",
        "#spliting the data for train and test:\n",
        "X_train_under,X_test_under,y_train_under,y_test_under=train_test_split(X_under,y_under,test_size=0.25,random_state=71)\n",
        "#size of data after spliting\n",
        "print(\"X_train_under : \",X_train_under.shape,\"\\ny_train_under : \",y_train_under.shape)\n",
        "print(\"X_train_under : \",X_test_under.shape,\"\\ny_train_under : \",y_test_under.shape)"
      ],
      "execution_count": null,
      "outputs": [
        {
          "output_type": "stream",
          "name": "stdout",
          "text": [
            "X_train_under :  (936, 33) \n",
            "y_train_under :  (936,)\n",
            "X_train_under :  (312, 33) \n",
            "y_train_under :  (312,)\n"
          ]
        }
      ]
    },
    {
      "cell_type": "markdown",
      "metadata": {
        "id": "B6mQ9702FTq0"
      },
      "source": [
        "### **1.Decision Tree Algorithm**"
      ]
    },
    {
      "cell_type": "code",
      "metadata": {
        "colab": {
          "base_uri": "https://localhost:8080/"
        },
        "id": "n5wytJ_5LhBH",
        "outputId": "2c6665df-6a32-49b2-bfd6-13cfcf3aba39"
      },
      "source": [
        "tree_under=DecisionTreeClassifier()\n",
        "tree_under.fit(X_train_under,y_train_under)"
      ],
      "execution_count": null,
      "outputs": [
        {
          "output_type": "execute_result",
          "data": {
            "text/plain": [
              "DecisionTreeClassifier(ccp_alpha=0.0, class_weight=None, criterion='gini',\n",
              "                       max_depth=None, max_features=None, max_leaf_nodes=None,\n",
              "                       min_impurity_decrease=0.0, min_impurity_split=None,\n",
              "                       min_samples_leaf=1, min_samples_split=2,\n",
              "                       min_weight_fraction_leaf=0.0, presort='deprecated',\n",
              "                       random_state=None, splitter='best')"
            ]
          },
          "metadata": {},
          "execution_count": 42
        }
      ]
    },
    {
      "cell_type": "code",
      "metadata": {
        "id": "3_0wQLhrLmKM"
      },
      "source": [
        "pred_under_tree=tree_under.predict(X_test_under)"
      ],
      "execution_count": null,
      "outputs": []
    },
    {
      "cell_type": "code",
      "metadata": {
        "colab": {
          "base_uri": "https://localhost:8080/"
        },
        "id": "wpronRyvLtZ-",
        "outputId": "2046023d-c68c-490d-b32f-77c2c4ae4de4"
      },
      "source": [
        "print(metrics.classification_report(pred_under_tree,y_test_under))"
      ],
      "execution_count": null,
      "outputs": [
        {
          "output_type": "stream",
          "name": "stdout",
          "text": [
            "              precision    recall  f1-score   support\n",
            "\n",
            "           0       0.77      0.71      0.74       222\n",
            "           1       0.41      0.49      0.44        90\n",
            "\n",
            "    accuracy                           0.65       312\n",
            "   macro avg       0.59      0.60      0.59       312\n",
            "weighted avg       0.67      0.65      0.66       312\n",
            "\n"
          ]
        }
      ]
    },
    {
      "cell_type": "code",
      "metadata": {
        "colab": {
          "base_uri": "https://localhost:8080/",
          "height": 298
        },
        "id": "08FBaUTaLxLK",
        "outputId": "1760a2ad-5fc1-434c-efa1-507034bc66ab"
      },
      "source": [
        "sns.heatmap(metrics.confusion_matrix(y_test_under,pred_under_tree),annot=True,cbar=False\n",
        "            ,cmap=\"Blues\",fmt=\"1\",linecolor=\"Black\",linewidth=0.3)\n",
        "plt.xlabel(\"PREDICTED_LABEL\",fontsize=12,color='r')\n",
        "plt.ylabel(\"ACTUAL_LBLE\",fontsize=12,color='r')\n",
        "plt.title(\"CONFUISON_MATRIX   :-\",fontsize=14,color=\"b\")\n",
        "plt.show()"
      ],
      "execution_count": null,
      "outputs": [
        {
          "output_type": "display_data",
          "data": {
            "image/png": "[encoded data removed]",
            "text/plain": [
              "<Figure size 432x288 with 1 Axes>"
            ]
          },
          "metadata": {
            "needs_background": "light"
          }
        }
      ]
    },
    {
      "cell_type": "code",
      "metadata": {
        "colab": {
          "base_uri": "https://localhost:8080/"
        },
        "id": "zG0j5YyUM1MY",
        "outputId": "f5a9f475-14a2-4b88-d7b4-ad0e8bda62bb"
      },
      "source": [
        "score_under = {}\n",
        "score_under[\"Decision_Tree\"] ={}\n",
        "print(metrics.precision_score(pred_under_tree,y_test_under)*100)\n",
        "print(metrics.recall_score(pred_under_tree,y_test_under)*100)\n",
        "print(metrics.accuracy_score(pred_under_tree,y_test_under)*100)"
      ],
      "execution_count": null,
      "outputs": [
        {
          "output_type": "stream",
          "name": "stdout",
          "text": [
            "40.74074074074074\n",
            "48.888888888888886\n",
            "64.74358974358975\n"
          ]
        }
      ]
    },
    {
      "cell_type": "markdown",
      "metadata": {
        "id": "AgjMk2N6Fwoh"
      },
      "source": [
        "### **2.KNN Algorithm**"
      ]
    },
    {
      "cell_type": "code",
      "metadata": {
        "colab": {
          "base_uri": "https://localhost:8080/"
        },
        "id": "3IXzB-K-FQtq",
        "outputId": "98ef0aa7-7ce4-4abf-c5ba-7f2d385909fc"
      },
      "source": [
        "from sklearn.neighbors import KNeighborsClassifier\n",
        "neigh = KNeighborsClassifier(n_neighbors=2)\n",
        "neigh.fit(X_train_under, y_train_under)\n",
        "neigh.score(X_test_under, y_test_under)\n",
        "y_pred = neigh.predict(X_test_under)\n",
        "print('Accuracy', accuracy_score(y_test_under, y_pred))"
      ],
      "execution_count": null,
      "outputs": [
        {
          "output_type": "stream",
          "name": "stdout",
          "text": [
            "Accuracy 0.6698717948717948\n"
          ]
        }
      ]
    },
    {
      "cell_type": "markdown",
      "metadata": {
        "id": "e8aMI9sMGVNU"
      },
      "source": [
        "### **3.Native Bayes Classifier**"
      ]
    },
    {
      "cell_type": "code",
      "metadata": {
        "colab": {
          "base_uri": "https://localhost:8080/"
        },
        "id": "2c0kVc34F3dF",
        "outputId": "19f8fa93-ad83-4651-aba8-e9cd763344f2"
      },
      "source": [
        "# load the iris dataset\n",
        "from sklearn.naive_bayes import GaussianNB\n",
        "gnb = GaussianNB()\n",
        "gnb.fit(X_train_under, y_train_under)\n",
        "\n",
        "# making predictions on the testing set\n",
        "y_pred = gnb.predict(X_test_under)\n",
        "\n",
        "# comparing actual response values (y_test) with predicted response values (y_pred)\n",
        "from sklearn import metrics\n",
        "print(\"Gaussian Naive Bayes model accuracy(in %):\", metrics.accuracy_score(y_test_under, y_pred)*100)"
      ],
      "execution_count": null,
      "outputs": [
        {
          "output_type": "stream",
          "name": "stdout",
          "text": [
            "Gaussian Naive Bayes model accuracy(in %): 65.38461538461539\n"
          ]
        }
      ]
    },
    {
      "cell_type": "markdown",
      "metadata": {
        "id": "ra20ekuSGgVY"
      },
      "source": [
        "while comparing with undersampling and oversampling method based on the algorithm we can come to the conclusion that undersampling(SMOTE method) gives good accuracy than the other.\n",
        "\n"
      ]
    },
    {
      "cell_type": "markdown",
      "metadata": {
        "id": "KLqliEtgG2eF"
      },
      "source": [
        "### **Comparision of Model using Boxplot**"
      ]
    },
    {
      "cell_type": "code",
      "metadata": {
        "id": "KlaVp8k9p3WW",
        "colab": {
          "base_uri": "https://localhost:8080/",
          "height": 365
        },
        "outputId": "bd4cc448-ffc1-43d2-fb1a-2330c7f3b107"
      },
      "source": [
        "# Compare Algorithms\n",
        "import pandas\n",
        "import matplotlib.pyplot as plt\n",
        "from sklearn import model_selection\n",
        "from sklearn.linear_model import LogisticRegression\n",
        "from sklearn.tree import DecisionTreeClassifier\n",
        "from sklearn.neighbors import KNeighborsClassifier\n",
        "from sklearn.discriminant_analysis import LinearDiscriminantAnalysis\n",
        "from sklearn.naive_bayes import GaussianNB\n",
        "from sklearn.svm import SVC\n",
        "\n",
        "# prepare configuration for cross validation test harness\n",
        "seed = 7\n",
        "# prepare models\n",
        "models = []\n",
        "models.append(('KNN', KNeighborsClassifier()))\n",
        "models.append(('CART', DecisionTreeClassifier()))\n",
        "models.append(('NB', GaussianNB()))\n",
        "models.append(('SVM', SVC()))\n",
        "# evaluate each model in turn\n",
        "results = []\n",
        "names = []\n",
        "scoring = 'accuracy'\n",
        "for name, model in models:\n",
        "\tkfold = model_selection.KFold(n_splits=10, random_state=seed)\n",
        "\tcv_results = model_selection.cross_val_score(model, X_train_over, y_train_over, cv=kfold, scoring=scoring)\n",
        "\tresults.append(cv_results)\n",
        "\tnames.append(name)\n",
        "\tmsg = \"%s: %f (%f)\" % (name, cv_results.mean(), cv_results.std())\n",
        "\tprint(msg)\n",
        "# boxplot algorithm comparison\n",
        "fig = plt.figure()\n",
        "fig.suptitle('Algorithm Comparison')\n",
        "ax = fig.add_subplot(111)\n",
        "plt.boxplot(results)\n",
        "ax.set_xticklabels(names)\n",
        "plt.show()"
      ],
      "execution_count": null,
      "outputs": [
        {
          "output_type": "stream",
          "name": "stdout",
          "text": [
            "KNN: 0.917061 (0.004917)\n",
            "CART: 0.981937 (0.002392)\n",
            "NB: 0.514244 (0.010163)\n",
            "SVM: 0.641150 (0.012268)\n"
          ]
        },
        {
          "output_type": "display_data",
          "data": {
            "image/png": "[encoded data removed]",
            "text/plain": [
              "<Figure size 432x288 with 1 Axes>"
            ]
          },
          "metadata": {
            "needs_background": "light"
          }
        }
      ]
    }
  ]
}